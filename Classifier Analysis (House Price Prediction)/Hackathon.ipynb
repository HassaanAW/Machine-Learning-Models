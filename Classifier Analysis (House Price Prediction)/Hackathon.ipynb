{
  "nbformat": 4,
  "nbformat_minor": 0,
  "metadata": {
    "kernelspec": {
      "name": "python3",
      "display_name": "Python 3",
      "language": "python"
    },
    "language_info": {
      "name": "python",
      "version": "3.7.9",
      "mimetype": "text/x-python",
      "codemirror_mode": {
        "name": "ipython",
        "version": 3
      },
      "pygments_lexer": "ipython3",
      "nbconvert_exporter": "python",
      "file_extension": ".py"
    },
    "colab": {
      "name": "Hackathon.ipynb",
      "provenance": [],
      "collapsed_sections": []
    }
  },
  "cells": [
    {
      "cell_type": "markdown",
      "metadata": {
        "id": "L6tRj9-6-33F"
      },
      "source": [
        "![LDSS.JPG](data:image/jpeg;base64,/9j/4AAQSkZJRgABAQEAkACQAAD/4REGRXhpZgAATU0AKgAAAAgABAE7AAIAAAAUAAAISodpAAQAAAABAAAIXpydAAEAAAAoAAAQ1uocAAcAAAgMAAAAPgAAAAAc6gAAAAgAAAAAAAAAAAAAAAAAAAAAAAAAAAAAAAAAAAAAAAAAAAAAAAAAAAAAAAAAAAAAAAAAAAAAAAAAAAAAAAAAAAAAAAAAAAAAAAAAAAAAAAAAAAAAAAAAAAAAAAAAAAAAAAAAAAAAAAAAAAAAAAAAAAAAAAAAAAAAAAAAAAAAAAAAAAAAAAAAAAAAAAAAAAAAAAAAAAAAAAAAAAAAAAAAAAAAAAAAAAAAAAAAAAAAAAAAAAAAAAAAAAAAAAAAAAAAAAAAAAAAAAAAAAAAAAAAAAAAAAAAAAAAAAAAAAAAAAAAAAAAAAAAAAAAAAAAAAAAAAAAAAAAAAAAAAAAAAAAAAAAAAAAAAAAAAAAAAAAAAAAAAAAAAAAAAAAAAAAAAAAAAAAAAAAAAAAAAAAAAAAAAAAAAAAAAAAAAAAAAAAAAAAAAAAAAAAAAAAAAAAAAAAAAAAAAAAAAAAAAAAAAAAAAAAAAAAAAAAAAAAAAAAAAAAAAAAAAAAAAAAAAAAAAAAAAAAAAAAAAAAAAAAAAAAAAAAAAAAAAAAAAAAAAAAAAAAAAAAAAAAAAAAAAAAAAAAAAAAAAAAAAAAAAAAAAAAAAAAAAAAAAAAAAAAAAAAAAAAAAAAAAAAAAAAAAAAAAAAAAAAAAAAAAAAAAAAAAAAAAAAAAAAAAAAAAAAAAAAAAAAAAAAAAAAAAAAAAAAAAAAAAAAAAAAAAAAAAAAAAAAAAAAAAAAAAAAAAAAAAAAAAAAAAAAAAAAAAAAAAAAAAAAAAAAAAAAAAAAAAAAAAAAAAAAAAAAAAAAAAAAAAAAAAAAAAAAAAAAAAAAAAAAAAAAAAAAAAAAAAAAAAAAAAAAAAAAAAAAAAAAAAAAAAAAAAAAAAAAAAAAAAAAAAAAAAAAAAAAAAAAAAAAAAAAAAAAAAAAAAAAAAAAAAAAAAAAAAAAAAAAAAAAAAAAAAAAAAAAAAAAAAAAAAAAAAAAAAAAAAAAAAAAAAAAAAAAAAAAAAAAAAAAAAAAAAAAAAAAAAAAAAAAAAAAAAAAAAAAAAAAAAAAAAAAAAAAAAAAAAAAAAAAAAAAAAAAAAAAAAAAAAAAAAAAAAAAAAAAAAAAAAAAAAAAAAAAAAAAAAAAAAAAAAAAAAAAAAAAAAAAAAAAAAAAAAAAAAAAAAAAAAAAAAAAAAAAAAAAAAAAAAAAAAAAAAAAAAAAAAAAAAAAAAAAAAAAAAAAAAAAAAAAAAAAAAAAAAAAAAAAAAAAAAAAAAAAAAAAAAAAAAAAAAAAAAAAAAAAAAAAAAAAAAAAAAAAAAAAAAAAAAAAAAAAAAAAAAAAAAAAAAAAAAAAAAAAAAAAAAAAAAAAAAAAAAAAAAAAAAAAAAAAAAAAAAAAAAAAAAAAAAAAAAAAAAAAAAAAAAAAAAAAAAAAAAAAAAAAAAAAAAAAAAAAAAAAAAAAAAAAAAAAAAAAAAAAAAAAAAAAAAAAAAAAAAAAAAAAAAAAAAAAAAAAAAAAAAAAAAAAAAAAAAAAAAAAAAAAAAAAAAAAAAAAAAAAAAAAAAAAAAAAAAAAAAAAAAAAAAAAAAAAAAAAAAAAAAAAAAAAAAAAAAAAAAAAAAAAAAAAAAAAAAAAAAAAAAAAAAAAAAAAAAAAAAAAAAAAAAAAAAAAAAAAAAAAAAAAAAAAAAAAAAAAAAAAAAAAAAAAAAAAAAAAAAAAAAAAAAAAAAAAAAAAAAAAAAAAAAAAAAAAAAAAAAAAAAAAAAAAAAAAAAAAAAAAAAAAAAAAAAAAAAAAAAAAAAAAAAAAAAAAAAAAAAAAAAAAAAAAAAAAAAAAAAAAAAAAAAAAAAAAAAAAAAAAAAAAAAAAAAAAAAAAAAAAAAAAAAAAAAAAAAAAAAAAAAAAAAAAAAAAAAAAAAAAAAAAAAAAAAAAAAAAAAAAAAAAAAAAAAAAAAAAAAAAAAAAAAAAAAAAAAAAAAAAAAAAAAAAAAAAAAAAAAAAAAAAAAAAAAAAAAAAAAAAAAAAAAAAAAAAAAAAAAAAAAAAAAAAAAAAAAAAAAAAAAAAAAAAAAAAAAAAAAAAAAAAAAAAAAAAAAAAAAAAAAAAAAAAAAAAAAAAAAAAAAAAAAAAAAAAAAAAAAAAAAAAAAAAAAAAAAAAAAAAAAAAAAAAAAAAAAAAAAAAAAAAAAAAAAAAAAAAAAAAAAAAAAAAAAAAAAAAAAAAAAAAAAAAAAAAAAAAAAAAAAAAAAAAAAAAAAAAAAAAAAAAAAAAAAAAAAAAAAAAAAAAAAAAAAAAAAAAAAAAAAAAAAAAAAAAAAAAAAAAAAAAAAAAAAAAAAAAAAAAAAAAAAAAAAAAAAAAAAAAAAAAAAAAAAAAAAAAAAAAAAAAAAAAAAAAAAAAAAAAAAAAAAAAAAAAAAAAAAAAAAAAAAAAAAAAAAAAAAAAAAAAAAAAAAAAAAAAAAAAAAAAAAAAAAAAAAAAAAAAAAAAAAAAAAAAAAAAAAAAAAAAAAAAAAAAAAAAAAAAAAAAAAAAAAAAAAAAAAAAAAAAAAAAAAAAAAAAAAAAAAAAAAAAAAAAAAAAAAAAAAAAAAAAAAAAAAAAAAAAAAAAAAAAAAAAAAAAAAAAAAAAAAAAAAAAAAAAAAAAAAAAAAAAAAAAAAAAAAAAAAAAAAAAAAAAAAAAAAAAAAAAAAAAAAAAAAAAAAAAAAAAAAAAAAAAAAAAAAAAAAAAAAAAAAAAAAAAAAAAAAAAAAAAAAAAAAAAAAAAAAAAAEhhc3NhYW4gQWhtYWQgV2FxYXIAAAWQAwACAAAAFAAAEKyQBAACAAAAFAAAEMCSkQACAAAAAzMwAACSkgACAAAAAzMwAADqHAAHAAAIDAAACKAAAAAAHOoAAAAIAAAAAAAAAAAAAAAAAAAAAAAAAAAAAAAAAAAAAAAAAAAAAAAAAAAAAAAAAAAAAAAAAAAAAAAAAAAAAAAAAAAAAAAAAAAAAAAAAAAAAAAAAAAAAAAAAAAAAAAAAAAAAAAAAAAAAAAAAAAAAAAAAAAAAAAAAAAAAAAAAAAAAAAAAAAAAAAAAAAAAAAAAAAAAAAAAAAAAAAAAAAAAAAAAAAAAAAAAAAAAAAAAAAAAAAAAAAAAAAAAAAAAAAAAAAAAAAAAAAAAAAAAAAAAAAAAAAAAAAAAAAAAAAAAAAAAAAAAAAAAAAAAAAAAAAAAAAAAAAAAAAAAAAAAAAAAAAAAAAAAAAAAAAAAAAAAAAAAAAAAAAAAAAAAAAAAAAAAAAAAAAAAAAAAAAAAAAAAAAAAAAAAAAAAAAAAAAAAAAAAAAAAAAAAAAAAAAAAAAAAAAAAAAAAAAAAAAAAAAAAAAAAAAAAAAAAAAAAAAAAAAAAAAAAAAAAAAAAAAAAAAAAAAAAAAAAAAAAAAAAAAAAAAAAAAAAAAAAAAAAAAAAAAAAAAAAAAAAAAAAAAAAAAAAAAAAAAAAAAAAAAAAAAAAAAAAAAAAAAAAAAAAAAAAAAAAAAAAAAAAAAAAAAAAAAAAAAAAAAAAAAAAAAAAAAAAAAAAAAAAAAAAAAAAAAAAAAAAAAAAAAAAAAAAAAAAAAAAAAAAAAAAAAAAAAAAAAAAAAAAAAAAAAAAAAAAAAAAAAAAAAAAAAAAAAAAAAAAAAAAAAAAAAAAAAAAAAAAAAAAAAAAAAAAAAAAAAAAAAAAAAAAAAAAAAAAAAAAAAAAAAAAAAAAAAAAAAAAAAAAAAAAAAAAAAAAAAAAAAAAAAAAAAAAAAAAAAAAAAAAAAAAAAAAAAAAAAAAAAAAAAAAAAAAAAAAAAAAAAAAAAAAAAAAAAAAAAAAAAAAAAAAAAAAAAAAAAAAAAAAAAAAAAAAAAAAAAAAAAAAAAAAAAAAAAAAAAAAAAAAAAAAAAAAAAAAAAAAAAAAAAAAAAAAAAAAAAAAAAAAAAAAAAAAAAAAAAAAAAAAAAAAAAAAAAAAAAAAAAAAAAAAAAAAAAAAAAAAAAAAAAAAAAAAAAAAAAAAAAAAAAAAAAAAAAAAAAAAAAAAAAAAAAAAAAAAAAAAAAAAAAAAAAAAAAAAAAAAAAAAAAAAAAAAAAAAAAAAAAAAAAAAAAAAAAAAAAAAAAAAAAAAAAAAAAAAAAAAAAAAAAAAAAAAAAAAAAAAAAAAAAAAAAAAAAAAAAAAAAAAAAAAAAAAAAAAAAAAAAAAAAAAAAAAAAAAAAAAAAAAAAAAAAAAAAAAAAAAAAAAAAAAAAAAAAAAAAAAAAAAAAAAAAAAAAAAAAAAAAAAAAAAAAAAAAAAAAAAAAAAAAAAAAAAAAAAAAAAAAAAAAAAAAAAAAAAAAAAAAAAAAAAAAAAAAAAAAAAAAAAAAAAAAAAAAAAAAAAAAAAAAAAAAAAAAAAAAAAAAAAAAAAAAAAAAAAAAAAAAAAAAAAAAAAAAAAAAAAAAAAAAAAAAAAAAAAAAAAAAAAAAAAAAAAAAAAAAAAAAAAAAAAAAAAAAAAAAAAAAAAAAAAAAAAAAAAAAAAAAAAAAAAAAAAAAAAAAAAAAAAAAAAAAAAAAAAAAAAAAAAAAAAAAAAAAAAAAAAAAAAAAAAAAAAAAAAAAAAAAAAAAAAAAAAAAAAAAAAAAAAAAAAAAAAAAAAAAAAAAAAAAAAAAAAAAAAAAAAAAAAAAAAAAAAAAAAAAAAAAAAAAAAAAAAAAAAAAAAAAAAAAAAAAAAAAAAAAAAAAAAAAAAAAAAAAAAAAAAAAAAAAAAAAAAAAAAAAAAAAAAAAAAAAAAAAAAAAAAAAAAAAAAAAAAAAAAAAAAAAAAAAAAAAAAAAAAAAAAAAAAAAAAAAAAAAAAAAAAAAAAAAAAAAAAAAAAAAAAAAAAAAAAAAAAAAAAAAAAAAAAAAAAAAAAAAAAAAAAAAAAAAAAAAAAAAAAAAAAAAAAAAAAAAAAAAAAAAAAAAAAAAAAAAAAAAAAAAAAAAAAAAAAAAAAAAAAAAAAAAAAAAAAAAAAAAAAAAAAAAAAAAAAAAAAAAAAAAAAAAAAAAAAAAAAAAAAAAAAAAAAAAAAAAAAAAAAAAAAAAAAAAAAAAAAAAAAAAAAAAAAAAAAAAAAAAAAAAAAAAAAAAAAAAAAAAAAAAAAAAAAAAAAAAAAAAAAAAAAAAAAAAAAAAAAAAAAAAAAAAAAAAAAAAAAAAAAAAAAAAAAAAAAAAAAAAAAAAAAAAAAAAAAAAAAAAAAAAAAAAAAAAAAAAAAAAAAAAAAAAAAAAAAAAAAAAAAAAAAAAAAAAAAAAAAAAAAAAAAAAAAAAAAAAAAAAAAAAAAAAAAAAAAAAAAAAAAAAAAAAAAAAAAAAAAAAAAAAAAAAAAAAAAAAAAAAAAAAAAAAAAAAAAAAAAAAAAAAAAAAAAAAAAAAAAAAAAAAAAAAAAAAAAAAAAAAAAAAAAAAAAAAAAAAAAAAAAAAAAAAAAAAAAAAAAAAAAAAAAAAAAAAAAAAAAAAAAAAAAAAAAAAAAAAAAAAAAAAAAAAAAAAAAAAAAAAAAAAAAAAAAAAAAAAAAAAAAAAAAAAAAAAAAAAAAAAAAAAAAAAAAAAAAAAAAAAAAAAAAAAAAAAAAAAAAAAAAAAAAAAAAAAAAAAAAAAAAAAAAAAAAAAAAAAAAAAAAAAAAAAyMDIxOjA0OjE0IDA2OjI2OjI2ADIwMjE6MDQ6MTQgMDY6MjY6MjYAAABIAGEAcwBzAGEAYQBuACAAQQBoAG0AYQBkACAAVwBhAHEAYQByAAAA/+ELJmh0dHA6Ly9ucy5hZG9iZS5jb20veGFwLzEuMC8APD94cGFja2V0IGJlZ2luPSfvu78nIGlkPSdXNU0wTXBDZWhpSHpyZVN6TlRjemtjOWQnPz4NCjx4OnhtcG1ldGEgeG1sbnM6eD0iYWRvYmU6bnM6bWV0YS8iPjxyZGY6UkRGIHhtbG5zOnJkZj0iaHR0cDovL3d3dy53My5vcmcvMTk5OS8wMi8yMi1yZGYtc3ludGF4LW5zIyI+PHJkZjpEZXNjcmlwdGlvbiByZGY6YWJvdXQ9InV1aWQ6ZmFmNWJkZDUtYmEzZC0xMWRhLWFkMzEtZDMzZDc1MTgyZjFiIiB4bWxuczpkYz0iaHR0cDovL3B1cmwub3JnL2RjL2VsZW1lbnRzLzEuMS8iLz48cmRmOkRlc2NyaXB0aW9uIHJkZjphYm91dD0idXVpZDpmYWY1YmRkNS1iYTNkLTExZGEtYWQzMS1kMzNkNzUxODJmMWIiIHhtbG5zOnhtcD0iaHR0cDovL25zLmFkb2JlLmNvbS94YXAvMS4wLyI+PHhtcDpDcmVhdGVEYXRlPjIwMjEtMDQtMTRUMDY6MjY6MjYuMjk2PC94bXA6Q3JlYXRlRGF0ZT48L3JkZjpEZXNjcmlwdGlvbj48cmRmOkRlc2NyaXB0aW9uIHJkZjphYm91dD0idXVpZDpmYWY1YmRkNS1iYTNkLTExZGEtYWQzMS1kMzNkNzUxODJmMWIiIHhtbG5zOmRjPSJodHRwOi8vcHVybC5vcmcvZGMvZWxlbWVudHMvMS4xLyI+PGRjOmNyZWF0b3I+PHJkZjpTZXEgeG1sbnM6cmRmPSJodHRwOi8vd3d3LnczLm9yZy8xOTk5LzAyLzIyLXJkZi1zeW50YXgtbnMjIj48cmRmOmxpPkhhc3NhYW4gQWhtYWQgV2FxYXI8L3JkZjpsaT48L3JkZjpTZXE+DQoJCQk8L2RjOmNyZWF0b3I+PC9yZGY6RGVzY3JpcHRpb24+PC9yZGY6UkRGPjwveDp4bXBtZXRhPg0KICAgICAgICAgICAgICAgICAgICAgICAgICAgICAgICAgICAgICAgICAgICAgICAgICAgICAgICAgICAgICAgICAgICAgICAgICAgICAgICAgICAgICAgICAgICAgICAgICAgIAogICAgICAgICAgICAgICAgICAgICAgICAgICAgICAgICAgICAgICAgICAgICAgICAgICAgICAgICAgICAgICAgICAgICAgICAgICAgICAgICAgICAgICAgICAgICAgICAgICAgCiAgICAgICAgICAgICAgICAgICAgICAgICAgICAgICAgICAgICAgICAgICAgICAgICAgICAgICAgICAgICAgICAgICAgICAgICAgICAgICAgICAgICAgICAgICAgICAgICAgICAKICAgICAgICAgICAgICAgICAgICAgICAgICAgICAgICAgICAgICAgICAgICAgICAgICAgICAgICAgICAgICAgICAgICAgICAgICAgICAgICAgICAgICAgICAgICAgICAgICAgIAogICAgICAgICAgICAgICAgICAgICAgICAgICAgICAgICAgICAgICAgICAgICAgICAgICAgICAgICAgICAgICAgICAgICAgICAgICAgICAgICAgICAgICAgICAgICAgICAgICAgCiAgICAgICAgICAgICAgICAgICAgICAgICAgICAgICAgICAgICAgICAgICAgICAgICAgICAgICAgICAgICAgICAgICAgICAgICAgICAgICAgICAgICAgICAgICAgICAgICAgICAKICAgICAgICAgICAgICAgICAgICAgICAgICAgICAgICAgICAgICAgICAgICAgICAgICAgICAgICAgICAgICAgICAgICAgICAgICAgICAgICAgICAgICAgICAgICAgICAgICAgIAogICAgICAgICAgICAgICAgICAgICAgICAgICAgICAgICAgICAgICAgICAgICAgICAgICAgICAgICAgICAgICAgICAgICAgICAgICAgICAgICAgICAgICAgICAgICAgICAgICAgCiAgICAgICAgICAgICAgICAgICAgICAgICAgICAgICAgICAgICAgICAgICAgICAgICAgICAgICAgICAgICAgICAgICAgICAgICAgICAgICAgICAgICAgICAgICAgICAgICAgICAKICAgICAgICAgICAgICAgICAgICAgICAgICAgICAgICAgICAgICAgICAgICAgICAgICAgICAgICAgICAgICAgICAgICAgICAgICAgICAgICAgICAgICAgICAgICAgICAgICAgIAogICAgICAgICAgICAgICAgICAgICAgICAgICAgICAgICAgICAgICAgICAgICAgICAgICAgICAgICAgICAgICAgICAgICAgICAgICAgICAgICAgICAgICAgICAgICAgICAgICAgCiAgICAgICAgICAgICAgICAgICAgICAgICAgICAgICAgICAgICAgICAgICAgICAgICAgICAgICAgICAgICAgICAgICAgICAgICAgICAgICAgICAgICAgICAgICAgICAgICAgICAKICAgICAgICAgICAgICAgICAgICAgICAgICAgICAgICAgICAgICAgICAgICAgICAgICAgICAgICAgICAgICAgICAgICAgICAgICAgICAgICAgICAgICAgICAgICAgICAgICAgIAogICAgICAgICAgICAgICAgICAgICAgICAgICAgICAgICAgICAgICAgICAgICAgICAgICAgICAgICAgICAgICAgICAgICAgICAgICAgICAgICAgICAgICAgICAgICAgICAgICAgCiAgICAgICAgICAgICAgICAgICAgICAgICAgICAgICAgICAgICAgICAgICAgICAgICAgICAgICAgICAgICAgICAgICAgICAgICAgICAgICAgICAgICAgICAgICAgICAgICAgICAKICAgICAgICAgICAgICAgICAgICAgICAgICAgICAgICAgICAgICAgICAgICAgICAgICAgICAgICAgICAgICAgICAgICAgICAgICAgICAgICAgICAgICAgICAgICAgICAgICAgIAogICAgICAgICAgICAgICAgICAgICAgICAgICAgICAgICAgICAgICAgICAgICAgICAgICAgICAgICAgICAgICAgICAgICAgICAgICAgICAgICAgICAgICAgICAgICAgICAgICAgCiAgICAgICAgICAgICAgICAgICAgICAgICAgICAgICAgICAgICAgICAgICAgICAgICAgICAgICAgICAgICAgICAgICAgICAgICAgICAgICAgICAgICAgICAgICAgICAgICAgICAKICAgICAgICAgICAgICAgICAgICAgICAgICAgICAgICAgICAgICAgICAgICAgICAgICAgICAgICAgICAgICAgICAgICAgICAgICAgICAgICAgICAgICAgICAgICAgICAgICAgIAogICAgICAgICAgICAgICAgICAgICAgICAgICAgICAgICAgICAgICAgICAgICAgICAgICAgICAgICAgICAgICAgICAgICAgICAgICAgICAgICAgICAgICAgICAgICAgICAgICAgCiAgICAgICAgICAgICAgICAgICAgICAgICAgICA8P3hwYWNrZXQgZW5kPSd3Jz8+/9sAQwAHBQUGBQQHBgUGCAcHCAoRCwoJCQoVDxAMERgVGhkYFRgXGx4nIRsdJR0XGCIuIiUoKSssKxogLzMvKjInKisq/9sAQwEHCAgKCQoUCwsUKhwYHCoqKioqKioqKioqKioqKioqKioqKioqKioqKioqKioqKioqKioqKioqKioqKioqKioq/8AAEQgBDgMhAwEiAAIRAQMRAf/EAB8AAAEFAQEBAQEBAAAAAAAAAAABAgMEBQYHCAkKC//EALUQAAIBAwMCBAMFBQQEAAABfQECAwAEEQUSITFBBhNRYQcicRQygZGhCCNCscEVUtHwJDNicoIJChYXGBkaJSYnKCkqNDU2Nzg5OkNERUZHSElKU1RVVldYWVpjZGVmZ2hpanN0dXZ3eHl6g4SFhoeIiYqSk5SVlpeYmZqio6Slpqeoqaqys7S1tre4ubrCw8TFxsfIycrS09TV1tfY2drh4uPk5ebn6Onq8fLz9PX29/j5+v/EAB8BAAMBAQEBAQEBAQEAAAAAAAABAgMEBQYHCAkKC//EALURAAIBAgQEAwQHBQQEAAECdwABAgMRBAUhMQYSQVEHYXETIjKBCBRCkaGxwQkjM1LwFWJy0QoWJDThJfEXGBkaJicoKSo1Njc4OTpDREVGR0hJSlNUVVZXWFlaY2RlZmdoaWpzdHV2d3h5eoKDhIWGh4iJipKTlJWWl5iZmqKjpKWmp6ipqrKztLW2t7i5usLDxMXGx8jJytLT1NXW19jZ2uLj5OXm5+jp6vLz9PX29/j5+v/aAAwDAQACEQMRAD8A+kaKKKACiiigAooooAKKKKACiiigAooooAKKKKACiiigAooooAKKKKACiiigAooooAKKKKACiiigAooooAKKKKACiiigAooooAKKKKACiiigAooooAKKKKACiiigAooooAKKKKACiiigAooooAKKKKACiiigAooooAKKKKACiiigAooooAKKKKACiiigAooooAKKKKACiiigAooooAKKKKACiiigAooooAKKKKACiiigAooooAKKKKACiiigAooooAKKKKACiiigAooooAKKKKACiiigAooooAKKKKACiiigAooooAKKKKACiiigAooooAKKKKACiiigAooooAKKKKACiiigAooooAKKKKACiiigAooooAKKKKACiiigAooooAKKKKACiiigAooooAKKKKACiiigAooooAKKKKACiiigAooooAKKKKACiiigAooooAKKKKACiiigAooooAKKKKACiiigAooooAKKKKACiiigAooooAKKKKACiiigAooooAKKKKACiiigAooooAKKKKACiiigAooooAKKKKACiiigAooooAKKKKACiiigAooooAKKKKACiiigAooooAKKKKACiiigAooooAKKKKACiiigAooooAKKKKACiiigAooooAKKKKACiiigAooooAKKKKACiiigAooooAKKKKACiiigAooooAKKKKACiiigAooooAKKKKACiiigAooooAKKKKACiiigAooooAKKKKACiiigAooooAKKKKACiiigAooooAKKKKACiiigAooooAKKKKACiiigAooooAKKKKACiiigAooooAKKKKACiiigAooooAKKKKACiiigAooooAKKKKACiiigAooooAKKKKACiiigAooooAKKKKACiiigAooooAKKKKACiiigAooooAKKKKACiiigAooooAKKKKACiiigAooooAKKKKACiiigAooooAKKKKACiiigAooooAKKKKACiiigAooooAKKKKACiiigAooooAKKKKACiiigAooooAKKKKACiiigAooooAKKKKACiiigAooooAKKKKACiiigAooooAKKKKACiiigAooooAKKKKACiiigAooooAKKKKACiiigAooooAKKKKACiiigAooooAKKKKACiiigAooooAKKKKACiiigAooooAKKKKACiiigAooooAKKKKACiiigAooooAKKKKACiiigAooooAKKKKACiiigAooooAKKKKACiiigAooooAKKKKACiiigAooooAKKKKACiiigAooooAKKKKACiiigAooooAKKKKACiiigAooooAKKKKACiiigAooooAKKKKACiiigAooooAKKKKACiiigAooooAKKKKACiiigAooooAKKKKACiiigAooooAKKKKACiiigAooooAKKKKACiiigAooooAKKKKACiiigAooooAKKKKACmTSpBC8sp2oilmPoBT6hu4op7KaK4IWJ0KuScYBHNNWvqJ3toecS/Fl11IiLT1NoGxln+cj1rvDr+mx6Zb39xdJDBcqDG0hxnIzivM5fhbqZ1ArDcQNaFsiYt0X6V3y+G9F1PQrXTpgLu3s8IpWQj5gMHkGvUxMcIlH2fzseVhZYxuXtPlf/AIHQn/4S3Qf+grb/APfVH/CW6D/0Fbf/AL6rP/4Vz4Z/58G/7/v/AI0f8K58M/8APg3/AH/f/Gua2E7y/A6b4ztH72aH/CW6D/0Fbf8A76o/4S3Qf+grb/8AfVZ//CufDP8Az4N/3/f/ABo/4Vz4Z/58G/7/AL/40WwneX4BfGdo/ezQ/wCEt0H/AKCtv/31Ulv4l0a7uEgttRhklkOFRTyTWX/wrnwz/wA+Df8Af9/8ansfA2gadexXdpZsk0TbkbznOD9CaTWFto5X+Q4vF31UbfMx/FnxDOhambCxtlnljAMju2AParmm+MZNa8K3moWMCpd2i5eFzlTjng/TNY3jHwBd6trUl/pUkbGXHmxu2CD61EbaDwF4Pvbe6uI5dRv12+Wh6ZGPyAzzXYqeGnSgqes9P+Dc4nVxUK03U0hr/wAC3mUf+Fs6n/z5W/5mnR/FrUFb97p8Dj0DkVzlh4N1vU7YT2FtHPGe6zx8fUbuKfc+BvEVrGXl01yo/uOrH8ga9F0MFfl0v6nmqvj7cyvb0/4B32lfFLTLtxHqEMlmx/i+8o/Hr+ldrb3EN1As1tKssbDKspyDXzdJG8UhSVGR1OCrDBFdN4K8WTaBqSQzOWsZmxIhPCZ/iFcuJy2PLzUfuOrDZpPm5a33nt9FIjiRFdDlWGQR3FLXgn0IUUVi+IPFOn6BaSNPOhuNp8uEHLMe3TpVwhKcuWKuyJzjCPNJ2RJrniTTfD8G+/mwxHyxJyzfQVl6H4yGr2N/qUtv9nsbQcEtlm7n6dvzrx3UtSudW1CW8vJDJJIc8noPQe1d18Oon1PQ9U0i4hkFtcLxOF4BIwRn16V7FTAwo0OaWr0v/wAA8WlmFSvX5Y6LW36XJYfiy7akBLp6raFsZD/MB6//AFq6DxH4zbw9c2cpthc2N3GHV1bDD/Hg1yEPwr1X+0hHNPCLYNzKDyR9PWpfieJYX0+yjt5FtLWIKkpHDHGMZ+gqvY4SpWhGnqtb/wBdyfbYunRnOro9Lf12PQtE8Sabr8O+wny4HzRNwy/hWrXzlp+oXOl30d3ZSGOWM5BB6+x9q9X0j4naTeKiagHs5cYYsuVJ+ornxWXzpu9PVHThMyhVVquj/A7aiq9pqFpfx77O5inX1RwasV5bTTsz1U01dBWZrXiHTtAt/N1CcKT92NeWb6Cp9W1GLSdJuL6f7kKFsep7CvAdW1W51nUpby8cu7ngdlHoPau/BYP6w25bI8/HY36sko/Ezt9R+LF07ldLskiTs8p3E/hWX/ws7xFuz5lvj08kVhaR4e1PXJCum2rSgH5nPCj8TXRD4W655e4yWwP93ef8K9h08FR92VvmeKquOre9G9vIuaf8WL2NwNSs4pk7tEdpH4V32heJ9M8QRbrGb94B80T8Mv4V4rrPhvVNCcDUbZkQniReVP4iqVle3GnXkd1aSNHLGcqyms6mAoVo81LT02NKWYYijPlq6+u59H0Vk+GdbXX9CgvRgORtkUdmHWtavnZRcJOMt0fSwkpxUo7MKKKKkoKKKKACiiigAooooAKKKKACiiigAooooAKKKKACiiigAooooAKKKKACiiigAooooAKKKKACiiigAooooAKKKKACiiigAooooAKKKKACiiigAooooAKKKKACiiigAooooAKKKKACiiigAooooAKKKKACiiigAooooAKKKKACiiigArN8R/8AIsal/wBesn/oJrSrN8R/8ixqX/XrJ/6Ca0p/GvUzqfBL0PBhq2orD5S31wI+m0SnFeufDIk+DkJOT5z8n614wetezfDH/kTY/wDrs/8AOvoczSVDTufN5XJvEa9mdhRRRXzR9QFFFFABRRRQB41491C8s/Gl0LS6mhBVchHI7VX8Dxrq/i6OPU83SSRuGEp3Z4o+I3/I63P+4n8qd8Nv+Rzg/wBx/wCVfUWSwd1vy/ofJ3bxvK9ub9Tqr/wLqGjXRv8AwfePEwOTbM3B9hnr+NWdH+ISLcCw8S27WF2vBdgQp+ueldxWbrHh/Ttdt/K1C3Vzj5XHDL9DXiLERqLlrq/n1/4J7zw0qb5sO7eXT/gHM+P/AA7aatob6tYqhuIF374+kid+nX1zXkFeyaL4OvtG1GaE6k02jyRsGhbqSe38+aw7rxd4Z0i6bT7LQo7i3jbY8uQM44OMg5/OvTwtdwTp0/f/AAsvmeVi6EZtVanuX363fyOt8C6i2o+EbR5DmSIGJj9Dx+mKua14m0vQYyb+5USY4iXlz+FYkljPc+F4n8Cypax3cvmOCcbQeDj0wRSaN8O7K2kF1rMjajdHlt5+UH6d686UKLnKc3ZX26/8A9OM66hGnBXdlr0/4JlyeIfEvi9jD4dtWsbM8G4fqR9en5c1leKfBaaF4bN9c3Ul3etKA8jHgA+lesxxpEgSJVRQMAKMAVmeJdIGueH7qxGA7rlCf7w5H8quljOSpFQXLG/9XZFXBc9OTm+aVtO3yR8+17/4TW3XwrYfYwvlmEE7fXv+teDXVtNZ3UlvcoY5Y22spHQ1oaR4m1XQ+NPumSMnJjblT+FezjMO8TTSgzxMFiY4ao3NH0DVTU9NttW0+WzvIw8cike4PqPevN7H4tXSYGoWEcvq0TFP0Oa6TT/iXoV4wWd5LVj/AM9V+X8xXgyweJpO/L9x9BHHYaqrc33nOyfCO58xvL1SLZnjdGc4/Oul0XwDp9lohsdVjivnZy5k27SM9gevaumtby2vYRLaTJNGejI2RU1FTGYia5ZP9Ap4LDwfNGP6nB3nw0WGQzaBqU9lJ1Clsr+nNVxf+OPDn/H5bLqtuv8AEo3Nj/gPP5ivRKKSxc2rVEpLz/zG8HBO9JuL8v8AI8q8U+O7XXPDE1h9nmtbsuuUbkEA88157XvviHw3Za5ps8T28QuGQiKXbyrdua8JvLOewvJLa6jMcsbbWU17eX1aUoONNW8jwsxpVozUqjv5nuXgpbVfCGn/AGMLgxAuR/fx8365rerxHwLdau+vQ2OmXjQxSNulB5XaOvH6V2+t/Euz0nU2soLRrsxHbI+/aAe+ODmvLxGDqe2cYat6nrYbG0/YKU/dS0/4Y67ULC31OxltLyMSRSLggivN5fhHcea3k6pEEz8u6M5x+dd1aeJ9NutBXVzL5dtnDlh9w+hrQtL61v4RLZzxzRnoyNkVz061fDpqOh0VaOHxLTlr/kY3hDw0/hnS5LaS5Fw0km8kLgD6V0FFFc9ScqknKW7OmnTjTioR2QUUUVBYUUUUAFFFFABRRRQAUUUUAFFFFABRRRQAUUUUAFFFFABRRRQAUUUUAFFFFABRRRQAUUUUAFFFFABRRRQAUUUUAFFFFABRRRQAUUUUAFFFFABRRRQAUUUUAFFFFABRRRQAUUUUAFFFFABRRRQAUUUUAFFFFABRRRQAUUUUAFFFFABWb4j/AORY1L/r1k/9BNaVZviP/kWNS/69ZP8A0E1pT+NepnU+CXofPZ617N8Mf+RNj/67P/OvGD1r2f4Y/wDImx/9dn/nX0WafwPmfNZV/vHyZ2FFFFfMn1IUUUUAFFFFAHiXxG/5HW5/3E/lTvht/wAjnB/uP/KmfEb/AJHW5/3E/lT/AIbH/isoP9x/5V9T/wAwX/bv6Hya/wB+/wC3v1Pa6rX2oWum2rXF9OkMSjlmNc54i8eWekubTTx9uvidojj5Cn3I/kKx7Hwjq3ie6XUfFtw6RZylopxgfTt/OvBhh7R56r5V+L9EfQVMTeXJRXNL8F6s19H8ZnxBrclpZ2Mv2AIQbk8YPv7Vw+qfDrWk1aRbGEXFu7kpKHAAB9c13/ie4svDHg64js0jt9yeVCiDGWPf+ZryW38Va3a2wgh1KcRgYALZwPYmvTwcZu86CSW2vXzPLxsqatTxDbe+nTyPT83vgvwdaw6fa/2jNE378IeFycn371No3xB0jUmEV0zWNx0KTDAz7H/HFP8Ah7FOPCkdxdO7y3UjSlnOSecd/pVzWfCGj62rG6tVSU/8tYhtb9Ov41wTdHnlCqtbvVf5HoQjW5IzovSy91/5m0jrIoaNgynoVOQadXnTeF/E3hdjL4cv2u7Zefs8h5x9Dx+VTQfE4WgMOvaXPb3K9QgwD+BqXhJS1ovmX4/cUsZGOlZcr/D7zo9f8I6X4hXddxbJwMCaPhh9fWuC1H4U6hCS2nXUVwvZXyjf1FdRYfEzRr6+itik8BkYKHkA2gn1xXYg5GRVxrYrCWi9PUiVDC4u8lq+6PAL7wnrmnZ+06dMFH8SDcP0rJeN422yIyH0YYr6VrM1Xw9pmswtHfWkbkjAkC4YfQ9a7KebP/l5H7jiqZQrXpy+88K0nWr7RLsXGnztGwPK5+VvYjvXt/hbxDF4j0dbpBslU7ZY/wC63+FeGaraLYatdWiNvWGVkDeoBrrvhprNtpV3fC+uUggeNW+dsZIPb866cfQjVpe0itTly/ESo1vZyeh69RXD3/xNshIYNFtJ7+YnClVIU/1qnt8c+JPvFdJtm9PlP/xVeMsJUSvUtFef+R7bxlNu1NOT8v8AM7a/1rTdLjL395FCB2Lc/kOa858V+IdE8Rt5NhpU97dDhJ0XaR/Mn8adqnhzQfCzQT+JJ7vU55iTtBwDjvnOf1rU0bx54YgmjtbOxayVyF3+WoH4kc110qUaa9pSTl57L/M46taVV+yquMfLd/5Gd4A8LazputJf3lsIIChVg7fNg+gqj4k+H2sHXbibToftMFxIZAwYArk5IOa9dByMjkUVh/aFVVXUSWuhv/Z1J0lSbemp5frFunhL4cnSLiVXvb2TeyKc7emf0ArhdL1e90e7W40+donB5APDexHevetU0PTtZhMeoWscvGA5HzL9D1FeD65YJpeuXllE+9IJSise4FengK0K0ZRktXqzy8wozoyjOL0WiPa/CXiSPxLpIn2hJ4ztmQdj6/Q1u15N8Jrh1168gB/dvb7iPcMMH9TXrNePjKKo1nGOx7WCrOtQUpbhRRRXIdgUUUUAFFFFABRRRQAUUUUAFFFFABRRRQAUUUUAFFFFABRRRQAUUUUAFFFFABRRRQAUUUUAFFFFABRRRQAUUUUAFFFFABRRRQAUUUUAFFFFABRRRQAUUUUAFFFFABRRRQAUUUUAFFFFABRRRQAUUUUAFFFFABRRRQAUUUUAFFFFABUF9bxXdhPb3B2xSxlHIOMAjmp6gvbf7XYT24bb5sZTd6ZFOO6FLVM81bV/AcFwdPGlmSEHabjk8+uc5rZudZtPAGl20VlaSXljdM0kUglAxnnHSuBm8Ea+mpG1GnyMd2BIo+Qj1zXW+M9Hv08KaRo9pay3cluA0jxrkDC4x+te9Up0XKEefmT31/E+ep1KyhOfJytbWX4eY/8A4W7b/wDQJl/7/D/Cj/hbtv8A9AmX/v8AD/CuE/4RfXP+gXdf9+zR/wAIvrn/AEC7r/v2a3+p4L+n/wAEw+u47z+7/gHeD4u2xYZ0mUDufOH+FdxaavZXdnDcJPGqyoHAZgCARnmvCx4W1wsANLuef+mZr0Kx+F1i+nwNd3N1HO0amRFcYVscjp61x4rD4SCVpW9NTtwmJxk27xv66fodx9utP+fmL/vsUq3ls7BUnjZj0AYc1xv/AAqzSv8An8vP++x/hVrTPh3p2l6lBew3NyzwuHUOwwT+VcDp4e2k39x6EamJvrBff/wCl4q1DwppWtO+p2P22+lALgc7R29hWLqOj6bqGhS6/wCDXktXhBE8Kkggd/p/hUfjzwlqs3iKW+sraS6huMHMYyVPoRWr4Z0LUNC8Faq93byG4u0IS3UZYcY6fjXpR5KdGE4Tu9NL/hY8ySnUrThOFlrrb8bnOeHfFejaAgkXR5bi7P3p5JgTn244rcn+LgMZ+zaWVfHBklyP0FcT/wAIvrn/AEC7r/v2aVfCmuucLpVyT/uV2Tw+FnLmm7v1/wCCcMMRi4R5YKy9P+AR634gv/EF35+oS5x9yNeFT6Cm6Ho8+uatDZWyklz87Y+6vcmug0v4aa1eyKbxUsos8lzlvyr07w94ZsPDlr5Vkm6Rv9ZK33nrOvjaNCHLS1flsa4fA1q8+erovPdmlZ2qWVlDbQjCQoEX8BU1FFfNttu7Pp0klZBXC/E7QpL/AEmLULWPdJak+YAOSh7/AIV3VIyh1KsAQRgg961o1XRqKa6GVeiq1N031PmoHB4r1v4feJb/AFDTZ11PYbayQf6SxwT7H14HWq3iX4YpczPdaE6xMxy0D/dz7Ht9KPCugajF4Z1fRL62e1mmB8uRh8rZGOD+H617eJr0MRQut9PVHhYXD18NXs1pr6PsaUXxO0SXURbbZljLbROV+X8qi8d+ML3QhHbWECj7RHuS5Jzj6D1rgIfBGvyaitqdPkT5sGQj5QPXNdb460bUNQXStL020luWtIQrygcdAOv4ZrJ4fCwrQ5XdddfxNViMVOhPmVnpbT8DzOSRpZGkkYs7HLE9zXoPgfwHbapp39o6wkhR2/dRA4DD1PerXhz4XmOZLnX3VgpyLeM5B+p/pXpEcaRRrHGoVFGAoGABTxuPVuSi/mTgcvd/aVl8irY6Rp+mxhLGzihA/urz+fWrlFFeG5OTuz31FRVkji/iXokmp6El1bIXlsyWKjup6/livHehr6WIBGCMg9q8+8TfDOO9me60N1gkbloG4Qn2PavYwGNjTj7Kpt0Z4uYYGdSXtaer6oxfDvxMuNMtUtNUgN1FGAqyK2HA9/WukHxV0Xbkw3QPpsFeb3vhTW9PYi506bA/iVdw/MVmm1uA20wyBvTaa75YPC1XzL8GefHG4uiuR/ij0PV/iuZIHi0ezMbsMCWU5x9BXnM00k8zyzMXkc7mY9Sa0bTw3rF8wFrp07577MD867bw78L5BKlxr8ihRyLeM5z9TTUsLg4u3+bE44vGyXMv0Ra+FWjSW9rcapOhXzx5cWe65yT+YFeh0yKKOCFIoUCRoAqqowAKfXztes61RzfU+lw9FUKSproFFFFYG4UUUUAFFFFABRRRQAUUUUAFFFFABRRRQAUUUUAFFFFABRRRQAUUUUAFFFFABRRRQAUUUUAFFFFABRRRQAUUUUAFFFFABRRRQAUUUUAFFFFABRRRQAUUUUAFFFFABRRRQAUUUUAFFFFABRRRQAUUUUAFFFFABRRRQAUUUUAFFFFABRRRQAUVm6LqrarFdO8Yj8i5eEYPULjmkvNWa28QWGnCMMt0rsXzyu0Vp7OXM49TP2keVS6M06KzNV1VtOvNOgWMOLyYxEk/d4zmqlv4nSTxhcaHNGEZEDRPn7/GSKapTaul0uJ1oRfK31sb1FYGoeJ0tPFVjosUYke4/wBY2f8AVjHH8jTbjW9TudUurPQ7KGYWhAlknk2gsRnAApqjPR+VyXXhqt9bfM6Gis/RtSl1K1drm0ktJ4nMckbjuO4Pce9UtZ1m/tNXtNP0y1hnluEZ8yuVAC4/xqVTk5cvUp1YqHP0N2isGz168TVotO1uxW1luATDJG+5HI6j2Nak+qWFrcLBc3tvFK33UeQAn8DRKnKLsONWEle5aorG1/xDDov2MGSDdcTojLJIAVQnBf6D16Vo/wBoWYs/tZu4Ps//AD28wbPz6UnTkkpW3GqkXJxvqixRUNreW19D5tncRzx5xujcMP0qhr2sNpFvAIIPtFzcyiGGPOAWPPJ9OKIwlKXKtwlOMY8z2NWisKz1bVo9SitNZ05YxOD5c9sxdAR2b0rSudUsLOZYru9t4JG6LJKFJ/A05U5J239BRqRavt66FuiqF7eTw3NmtsIGjnk2uZJADjGflHc1LdanY2Lql5eQQO/3VkkCk/nU8j0sPnjrctUVFLd28MavNPHGjkBWZwAxPpUdpqVlfMwsruC4KfeEUgbH5UuV2vYfMr2uWaKqXOq2FnMsV3e28MjdEklCk/ganluYYIDNPMkcQGS7sAoH1o5X2HzLuSUVBa31rfRmSyuIp0BwWjcMB+VU9d1c6RaxNDB59xPKIoY84BY+p7CqUJOXKtyXOKjzN6GnRWDa6vq8OpQ2us6ciLcZCTWxLqpxnDen1rUutUsLGRUvLyCB2+6skgUn86cqck7b+go1ItX29dC1RTGmiSEzPIixAZLlgFA9c1Da6lZ36sbG7huNvXy5A2Prio5Xa5fMr2LNFUNNvZbixee+NvGVdgTFIGUAHHJz19altdTsb7f9jvIJ9n3vLkDY+uKbg1fyJU4tLzLVFYWmeJ7W/wBYvbI3FqBDIEhKyjMuR25559K2Yp4Z4/MglSRMkbkYEce9OVOUHaSCFSM1eLJKKZDPFcRiSCRJUPRkYEfmKfUFhRRRQAUUUUAFFFFABRRRQAUUUUAFFFFABRRRQAUUUUAFFFFABRRRQAUUUUAFFFFABRRRQAUUUUAFFFFABRRRQAUUUUAFFFFABRRRQAUUUUAFFFFABRRRQAUUUUAFFFFABRRRQAUUUUAFFFFABRRRQAUUUUAFFFFABRRRQAUUUUAFFFFABRRRQBy/hS8toIdSSaeONv7QlOGYD0pNauYYfFmh3ryKLY+ZH5uflDEcDP4VqS+F9EnmeWbTLd5HO5mKck+tWTpGnnTxYm0iNqOkW35RXW6tPn51fX/KxxqlU5OR20/R3MTXbiK88RaHbW0iyypO0rKpztUKeTWVdaZNqHiTXJLHAvrVoZrcn+8AePoelddp+i6dpbM2n2cUDNwWUcmrEdpBDcS3EUSrLNjzHA5bHTNCrqGke1vxuEsO56z73/Cxw6abcWmuaLd6kB9vvLx5JsHO35eFz6CtK4t9M1DWLuWw1KbTNRhbbNtYLvx0JU9R71001pBPNFLNEryQndGxHKn1FVb/AELTNTlEl/ZQzOOAzLzT+sKTTemnT17dhfVnFNR116+nfuZ/hTVLrUEvYbqWO5+yzeWt1GMCUYB/MZqHVJo4PHmlPM6ov2eXljgdq6C1tILK3WC0hSGJeiIMAVBf6Pp2qMjahZxXBThTIucVmqkPaOVrJ/5GjpT9ko3u1b8zC1e8t7/xZokFlKs8kErTS+Wc7F24yfTrWNqdxFew6xc21rp8MSs8cs12xaRmXj5Rn5eRxXcWOk2GmhvsFpFb7uuxcZqvL4c0ie7a5m0+B5n+85XrWsK8Itb6f53Mp4epNPVXf+VjldRihn8J+Hbq8RHIntxJK46JuGcn0rU1+axRdNsLWzt5zM7NArvtiXbjJOOvXpXQPp9pJYiye3ja2A2iIr8uPpVeTQNKlsUs5LGE28ZJSPbwp9qXt4tq99G/xH9Xkk7W1S/A5zwo7r4u1OEta/6lC6WYIjDfn1rY8SnSpYra11lniWaX9zMp2+W4HB3djWhZaTYacxaxtIoGK7SUXGR6VNdWlve27Q3cKTRN1RxkGonWjKqpq5cKMo0nB2/Q5WO6utG12ws4dW/tOC6coYZcGSMY+9kdvrSaPFpdxca02tCFroXbh/PxlY8DbjPQda6Gw0LTNMkMlhZRQOeCyrzReaBpeoXAnvbGGaUfxsvNX7aG2vr1IVCe+j8ne2xzkhtMeGf7NkkktftR8tpM5I2N61R2Xc+v6z5kOmysJcH7cTuWPHGPQYrumsbZzBugQ/ZzmLj7hxjj8Kr32haZqcyy39lFPIowGZecU44iKeq/q9xSw0mtH/VreZx01p5nhjQrW6miuon1JFzExZShc/KD+la+pWVvp3ivRJLGFYGlMkcnljAdcA4NdC2n2jRQxtbxlIGDRLt4QjoRT5bWCeaKWWJXkhJMbEcqT6VLxF39/wCJSw1l934HJaRFplxPrb60IWuRdSCTzsZWPPy4z0GKp6wY2sdATTGWXT2lYL9sJCMQDtDe3p+FddeaBpeoXIuLyxhmlH8bLzVi4sLS6s/stxbxyQYA8srwMdKpYiKkpa/0raEvDycXHT16731OY0C2ni8VSyO+nw5twJLezc888MRWr4lOlvawW2slo45pQI5V48t+x3dqvWGk2Glqw0+1jg3fe2DrU9zawXkDQ3USyxN1RxkGs5VVKopdjWNFxpOHf7jkjdXWhavp9vb6v/acF1L5f2eXDSIuCdwYdhjvS6TFptxqWttrQhe4W4IPn4ysWBjGegxXQ2Og6XpsplsbGGGQ8blXmi+0HS9SnE19ZRTSDgMy81o60NtfXqZqhPfTfbW2xxavu8JaYt0zf2c2pbXLHgw7zjJ9K6QQ6FDr1t9jKx3jRPtS36MnH3gP0rZksraWz+ySQRtb7dvllflx6YqCw0XTtMLGws4oC/DFV5NTKvGSe63/ABHHDyi1s9vw7HDzNOPAeIduxtTcS7yQu3zT1PpnFX7G0uB4m092OlWxCsDHaOd0qbTxjuO9demn2kdq9slvGIHJLR7eCScn86gsND0zTJWksLKKB2GCyrzireJi4tW3v+JCwslKLvtb8Dn9CtdOh8XayjRQJKs6GEFQCMqOn41V1K5udB1C90izVv8AiasHsyBwjscOPw611s2k2FxfJeTWkT3MZBSUr8wx05qo+ky3PihNRuWQwW0JW3QHkM33mP5AUo1ouV5dvxWw5UJKPLHe/Ts9/wCvQu6ZYR6ZpsFnD9yFAufU+tWqKK4223dnakkrIKKKKQwooooAKKKKACiiigAooooAKKKKACiiigAooooAKKKKACiiigAooooAKKKKACiiigAooooAKKKKACiiigAooooAKKKKACiiigAooooAKKKKACiiigAooooAKKKKACiiigAooooAKKKKACiiigAooooAKKKKACiiigAooooAKKKKACiiigAooooAKKKKACiiigAooooAKKKKACiiigAooooAKKKKACiiigAooooAKKKKACiiigAooooAKKKKACiiigAooooAKKKKACiiigAooooAKKKKACiiigAooooAKKKKACiiigAooooAKKKKACiiigAooooAKKKKACiiigAooooAKKKKACiiigAooooAKKKKACiiigAooooAKKKKACiiigAooooAKKKKACiiigAooooAKKKKACiiigAooooAKKKKACiiigAooooAKKKKACiiigAooooAKKKKACiiigAooooAKKKKACiiigAooooAKKKKACiiigAooooAKKKKACiiigAooooAKKKKACiiigAooooAKKKKACiiigAooooAKKKKACiiigAooooAKKKKACiiigAooooAKKKKACiiigAooooAKKKKACiiigAooooAKKKKACiiigAooooAKKKKACiiigAooooAKKKKACiiigAooooAKKKKACiiigAooooAKKKKACiiigAooooAKKKKACiiigAooooAKKKKACiiigAooooAKKKKACiiigAooooAKKKKACiiigAooooAKKKKACiiigAooooAKKKKACiiigAooooAKKKKACiiigAooooAKKKKACiiigAooooAKKKKACiiigAooooAKKKKACiiigAooooAKKKKACiiigAooooAKKKKACiiigAooooAKKKKACiiigAooooAKKKKACiiigAooooAKKKKACiiigAooooAKKKKACiiigAooooAKKKKACiiigAooooAKKKKACiiigAooooAKKKKACiiigAooooAKKKKACiiigAooooAKKKKACiiigAooooAKKKKACiiigAooooAKKKKACiiigAooooAKKKKACiiigAooooAKKKKACiiigAooooAKKKKACiiigAooooAKKKKACiiigAooooAKKKKACiiigAooooAKKKKACiiigAooooAKKKKACiiigAooooAKKKKACiiigAooooAKKKKACiiigAooooAKKKKACiiigAooooAKKKKACiiigAooooAKKKKACiiigAooooAKKKKACiiigAooooAKKKKACiiigAooooAKKKKACiiigAooooAKKKKACiiigAooooAKKKKACiiigAooooAKKKKACiiigAooooAKKKKACiiigAooooAKKKKACiiigAooooAKKKKACiiigAooooAKKKKACiiigAooooAKKKKACiiigAooooAKKKKACiiigAooooAKKKKACiiigAooooAKKKKACiiigAooooAKKKKACiiigAooooAKKKKACiiigAooooAKKKKACiiigAooooAKKKKACiiigAooooAKKKKACiiigAooooAKKKKACiiigAooooAKKKKACiiigAooooAKKKKACiiigAooooAKKKKACiiigAooooAKKKKACiiigAooooAKKKKACiiigAooooAKKKKACiiigAooooAKKKKACiiigAooooAKKKKACiiigAooooAKKKKACiiigAooooA/9k=)\n",
        "<br> \n",
        "The LUMS Data Science Society, in association with Kaggle by Google, brings you the first-ever Kaggle competition in Pakistan.\n",
        "\n",
        "What is Kaggle Datafest Hackathon\n",
        "The Kaggle Datafest is designed to test the all-rounded skills of individuals, including, but not limited to, data cleaning, data visualization, and machine learning. The competition Is divided into stages mirroring those of a machine learning project such as exploratory data analysis, data cleaning, and model building in order to provide a holistic experience and to limit the amount of work that is done on the dataset on any one day. Candidates excelling in any of these individual stages or those highlighting innovative ideas will be celebrated during the competition.\n",
        "\n",
        "As part of our collaboration with Kaggle, we will also conduct three talks during this event on different topics which will serve as learning experiences whose value is immeasurable.\n",
        "\n",
        "The Main Classification Problem\n",
        "Candidates are expected to use the provided dataset to predict the price-categories of real estate in Pakistan. There are 4 distinct price-categories: Cheap, Affordable, Semi-Premium, Premium. It is a multi-class supervised classification problem. The model selection is up to the candidates, but skills such as creative feature engineering are fundamental in order to get a higher score\n",
        "\n",
        "Acknowledgement:<br>\n",
        "The LDSS team thanks Zameen.com for allowing us to use their data on real estate in Pakistan.\n"
      ]
    },
    {
      "cell_type": "markdown",
      "metadata": {
        "id": "TQYsY3xYAHg0"
      },
      "source": [
        "## **Importing Libraries and Dataset**"
      ]
    },
    {
      "cell_type": "code",
      "metadata": {
        "id": "1eEFQUOqAO5H"
      },
      "source": [
        "import numpy as np # linear algebra\n",
        "import pandas as pd # data processing, CSV file I/O (e.g. pd.read_csv)\n",
        "import seaborn as sns # Data Visualization\n",
        "import matplotlib.pyplot as plt\n",
        "pd.options.mode.chained_assignment = None"
      ],
      "execution_count": 671,
      "outputs": []
    },
    {
      "cell_type": "code",
      "metadata": {
        "trusted": true,
        "id": "tYLl8JOe_qcK"
      },
      "source": [
        "# read data\n",
        "df_train = pd.read_csv('train.csv')\n",
        "df_test = pd.read_csv('test.csv')"
      ],
      "execution_count": 672,
      "outputs": []
    },
    {
      "cell_type": "markdown",
      "metadata": {
        "id": "dAWghv1XKyZa"
      },
      "source": [
        "###**Analyzing Data**"
      ]
    },
    {
      "cell_type": "code",
      "metadata": {
        "trusted": true,
        "colab": {
          "base_uri": "https://localhost:8080/"
        },
        "id": "evqRRuyJ_qcN",
        "outputId": "80fed9ff-3bd8-4d54-8de6-7f476a84c425"
      },
      "source": [
        "print('Shape of Train Data: ', df_train.shape)\n",
        "print('Shape of Test Data: ', df_test.shape)"
      ],
      "execution_count": 673,
      "outputs": [
        {
          "output_type": "stream",
          "text": [
            "Shape of Train Data:  (3082, 20)\n",
            "Shape of Test Data:  (545, 19)\n"
          ],
          "name": "stdout"
        }
      ]
    },
    {
      "cell_type": "code",
      "metadata": {
        "trusted": true,
        "colab": {
          "base_uri": "https://localhost:8080/"
        },
        "id": "_EFuXpWy_qcO",
        "outputId": "e62686d0-4b73-463f-e612-4ed67888f0df"
      },
      "source": [
        "df_train.isnull().sum()"
      ],
      "execution_count": 674,
      "outputs": [
        {
          "output_type": "execute_result",
          "data": {
            "text/plain": [
              "Property_Id                                0\n",
              "Title                                      0\n",
              "Label                                      0\n",
              "Type                                       0\n",
              "Location                                   0\n",
              "Baths                                      0\n",
              "Area                                       0\n",
              "Purpose                                    0\n",
              "Bedroom(s)                                 0\n",
              "Description                                0\n",
              "Main Features                              0\n",
              "Rooms                                      0\n",
              "Business and Communication                 0\n",
              "Healthcare Recreational                    0\n",
              "Nearby Locations and Other Facilities      0\n",
              "Other Facilities                           0\n",
              "Popular                                  984\n",
              "Source                                     0\n",
              "Time Stamp                                 0\n",
              "Price_Category                             0\n",
              "dtype: int64"
            ]
          },
          "metadata": {
            "tags": []
          },
          "execution_count": 674
        }
      ]
    },
    {
      "cell_type": "code",
      "metadata": {
        "colab": {
          "base_uri": "https://localhost:8080/"
        },
        "id": "npzbqW3NCZUC",
        "outputId": "ddef0902-5b4a-4287-cbf0-3e9cbe98a90f"
      },
      "source": [
        "df_test.isnull().sum()"
      ],
      "execution_count": 675,
      "outputs": [
        {
          "output_type": "execute_result",
          "data": {
            "text/plain": [
              "Property_Id                                0\n",
              "Title                                      0\n",
              "Label                                      0\n",
              "Type                                       0\n",
              "Location                                   0\n",
              "Baths                                      0\n",
              "Area                                       0\n",
              "Purpose                                    0\n",
              "Bedroom(s)                                 0\n",
              "Description                                0\n",
              "Main Features                              0\n",
              "Rooms                                      0\n",
              "Business and Communication                 0\n",
              "Healthcare Recreational                    0\n",
              "Nearby Locations and Other Facilities      0\n",
              "Other Facilities                           0\n",
              "Popular                                  176\n",
              "Source                                     0\n",
              "Time Stamp                                 0\n",
              "dtype: int64"
            ]
          },
          "metadata": {
            "tags": []
          },
          "execution_count": 675
        }
      ]
    },
    {
      "cell_type": "code",
      "metadata": {
        "trusted": true,
        "colab": {
          "base_uri": "https://localhost:8080/"
        },
        "id": "ISpaQdcT_qcQ",
        "outputId": "328c200a-0a09-4ad2-8c9d-7fa0f2bd4db3"
      },
      "source": [
        "# All Nulls are not showing\n",
        "cols = df_train.columns\n",
        "# Nulls with white spaces, '-'\n",
        "print('Nulls in Train Data:\\n', df_train.replace(' ',np.NaN).replace('-',np.NaN).isnull().sum())"
      ],
      "execution_count": 676,
      "outputs": [
        {
          "output_type": "stream",
          "text": [
            "Nulls in Train Data:\n",
            " Property_Id                                 0\n",
            "Title                                       0\n",
            "Label                                       0\n",
            "Type                                        0\n",
            "Location                                    0\n",
            "Baths                                     220\n",
            "Area                                        0\n",
            "Purpose                                     0\n",
            "Bedroom(s)                                 91\n",
            "Description                                 0\n",
            "Main Features                             854\n",
            "Rooms                                     540\n",
            "Business and Communication               1257\n",
            "Healthcare Recreational                  1425\n",
            "Nearby Locations and Other Facilities    1246\n",
            "Other Facilities                         1336\n",
            "Popular                                   984\n",
            "Source                                      0\n",
            "Time Stamp                                  0\n",
            "Price_Category                              0\n",
            "dtype: int64\n"
          ],
          "name": "stdout"
        }
      ]
    },
    {
      "cell_type": "code",
      "metadata": {
        "colab": {
          "base_uri": "https://localhost:8080/"
        },
        "id": "UX4fRLK9Cpge",
        "outputId": "a7522996-25a5-415d-e7af-3b4b9355f5f0"
      },
      "source": [
        "print('Nulls in Test Data:\\n', df_test.replace(' ',np.NaN).replace('-',np.NaN).isnull().sum())"
      ],
      "execution_count": 677,
      "outputs": [
        {
          "output_type": "stream",
          "text": [
            "Nulls in Test Data:\n",
            " Property_Id                                0\n",
            "Title                                      0\n",
            "Label                                      0\n",
            "Type                                       0\n",
            "Location                                   0\n",
            "Baths                                     44\n",
            "Area                                       0\n",
            "Purpose                                    0\n",
            "Bedroom(s)                                14\n",
            "Description                                0\n",
            "Main Features                            145\n",
            "Rooms                                     78\n",
            "Business and Communication               220\n",
            "Healthcare Recreational                  245\n",
            "Nearby Locations and Other Facilities    221\n",
            "Other Facilities                         230\n",
            "Popular                                  176\n",
            "Source                                     0\n",
            "Time Stamp                                 0\n",
            "dtype: int64\n"
          ],
          "name": "stdout"
        }
      ]
    },
    {
      "cell_type": "markdown",
      "metadata": {
        "id": "B2BE8uWSK4bo"
      },
      "source": [
        "###**Checking Categories**"
      ]
    },
    {
      "cell_type": "code",
      "metadata": {
        "trusted": true,
        "colab": {
          "base_uri": "https://localhost:8080/"
        },
        "id": "Cfsdy4KN_qcL",
        "outputId": "a6e636c7-cf9b-412e-ef17-741f346ec53d"
      },
      "source": [
        "df_train.groupby('Price_Category')['Property_Id'].count()"
      ],
      "execution_count": 678,
      "outputs": [
        {
          "output_type": "execute_result",
          "data": {
            "text/plain": [
              "Price_Category\n",
              "Affordable       170\n",
              "Cheap             18\n",
              "Premium         1057\n",
              "Semi-Premium    1837\n",
              "Name: Property_Id, dtype: int64"
            ]
          },
          "metadata": {
            "tags": []
          },
          "execution_count": 678
        }
      ]
    },
    {
      "cell_type": "code",
      "metadata": {
        "colab": {
          "base_uri": "https://localhost:8080/",
          "height": 376
        },
        "id": "0p7G9qIdA6Qd",
        "outputId": "1a959f49-199c-41a6-c56f-3c1550b6feea"
      },
      "source": [
        "df_train.groupby('Price_Category')['Property_Id'].count().plot.bar()\n",
        "plt.title('Counts of House for Each Price Category')\n",
        "plt.xlabel('Price Category')\n",
        "plt.ylabel('Counts of Houses')"
      ],
      "execution_count": 679,
      "outputs": [
        {
          "output_type": "execute_result",
          "data": {
            "text/plain": [
              "Text(0, 0.5, 'Counts of Houses')"
            ]
          },
          "metadata": {
            "tags": []
          },
          "execution_count": 679
        },
        {
          "output_type": "display_data",
          "data": {
            "image/png": "[encoded data removed]",
            "text/plain": [
              "<Figure size 432x288 with 1 Axes>"
            ]
          },
          "metadata": {
            "tags": [],
            "needs_background": "light"
          }
        }
      ]
    },
    {
      "cell_type": "markdown",
      "metadata": {
        "id": "_fRHVnZ_K-8S"
      },
      "source": [
        "###**Data Preparation**"
      ]
    },
    {
      "cell_type": "code",
      "metadata": {
        "trusted": true,
        "id": "5VATRyc__qcR"
      },
      "source": [
        "#useless columns: Property_id, type, purpose, \n",
        "#useful columns: ['Area','Baths', 'Bedroom(s)','Loc_Score']\n",
        "col_useful = ['Area','Baths', 'Bedroom(s)','Loc_Score']"
      ],
      "execution_count": 680,
      "outputs": []
    },
    {
      "cell_type": "code",
      "metadata": {
        "trusted": true,
        "id": "2RYC2Odf_qcS"
      },
      "source": [
        "# split the location column into 3\n",
        "df_location = pd.DataFrame(columns = ['Town', 'City', 'Province'])\n",
        "df_location[['Town', 'City', 'Province']]= df_train.Location.str.split(\",\", expand = True)\n",
        "df_location['Price_Category'] = df_train['Price_Category'] \n",
        "\n",
        "df_location1 = pd.DataFrame(columns = ['Town', 'City', 'Province'])\n",
        "df_location1[['Town', 'City', 'Province']]= df_test.Location.str.split(\",\", expand = True)"
      ],
      "execution_count": 681,
      "outputs": []
    },
    {
      "cell_type": "code",
      "metadata": {
        "trusted": true,
        "colab": {
          "base_uri": "https://localhost:8080/"
        },
        "id": "KYDctjYw_qcT",
        "outputId": "72002c52-ba43-415e-834a-6722d607bd93"
      },
      "source": [
        "print('Unique Provinces in Train Data:', df_location.Province.unique())\n",
        "print('Unique Provinces in Test Data:', df_location1.Province.unique())\n",
        "# 4 labels, one for others as well"
      ],
      "execution_count": 682,
      "outputs": [
        {
          "output_type": "stream",
          "text": [
            "Unique Provinces in Train Data: [' Punjab' ' Islamabad Capital' ' Sindh']\n",
            "Unique Provinces in Test Data: [' Sindh' ' Punjab' ' Islamabad Capital']\n"
          ],
          "name": "stdout"
        }
      ]
    },
    {
      "cell_type": "code",
      "metadata": {
        "trusted": true,
        "colab": {
          "base_uri": "https://localhost:8080/"
        },
        "id": "mQ9bXiGq_qcT",
        "outputId": "f4e52215-39b6-4a4a-ecce-5ef60674a64c"
      },
      "source": [
        "print('Unique Cities in Train Data:', df_location.City.unique())\n",
        "print('Unique Cities in Test Data:', df_location1.City.unique())\n",
        "# 4 labels, one for others as well"
      ],
      "execution_count": 683,
      "outputs": [
        {
          "output_type": "stream",
          "text": [
            "Unique Cities in Train Data: [' Lahore' ' Islamabad' ' Karachi']\n",
            "Unique Cities in Test Data: [' Karachi' ' Lahore' ' Islamabad']\n"
          ],
          "name": "stdout"
        }
      ]
    },
    {
      "cell_type": "code",
      "metadata": {
        "trusted": true,
        "colab": {
          "base_uri": "https://localhost:8080/"
        },
        "id": "63AcVz3u_qcU",
        "outputId": "83413984-05de-40b0-bd66-a91be9f7c839"
      },
      "source": [
        "print('Unique Towns in Train Data:', df_location.Town.unique().shape)\n",
        "print('Unique Towns in Test Data:', df_location1.Town.unique().shape)\n",
        "# Group areas"
      ],
      "execution_count": 684,
      "outputs": [
        {
          "output_type": "stream",
          "text": [
            "Unique Towns in Train Data: (166,)\n",
            "Unique Towns in Test Data: (78,)\n"
          ],
          "name": "stdout"
        }
      ]
    },
    {
      "cell_type": "code",
      "metadata": {
        "trusted": true,
        "colab": {
          "base_uri": "https://localhost:8080/",
          "height": 379
        },
        "id": "YTrmwN09_qcU",
        "outputId": "d3e1d1cc-5401-4b78-c892-21fb40e1a585"
      },
      "source": [
        "df_location.groupby(['Province','Price_Category'])['Town'].count().unstack('Price_Category').plot(kind='bar')"
      ],
      "execution_count": 685,
      "outputs": [
        {
          "output_type": "execute_result",
          "data": {
            "text/plain": [
              "<matplotlib.axes._subplots.AxesSubplot at 0x7f6f5f1a8250>"
            ]
          },
          "metadata": {
            "tags": []
          },
          "execution_count": 685
        },
        {
          "output_type": "display_data",
          "data": {
            "image/png": "[encoded data removed]",
            "text/plain": [
              "<Figure size 432x288 with 1 Axes>"
            ]
          },
          "metadata": {
            "tags": [],
            "needs_background": "light"
          }
        }
      ]
    },
    {
      "cell_type": "code",
      "metadata": {
        "trusted": true,
        "id": "nOhqJx4b_qcU"
      },
      "source": [
        "def map_cat(row):\n",
        "    if row['Price_Category'] == 'Cheap':\n",
        "        return 1\n",
        "    elif row['Price_Category'] == 'Affordable':\n",
        "        return 2\n",
        "    elif row['Price_Category'] == 'Semi-Premium':\n",
        "        return 3\n",
        "    else: return 4\n",
        "df_location['Price_Category'] = df_location.apply(lambda row: map_cat(row), axis=1)"
      ],
      "execution_count": 686,
      "outputs": []
    },
    {
      "cell_type": "code",
      "metadata": {
        "trusted": true,
        "id": "NrXXLisv_qcV"
      },
      "source": [
        "temp = df_location.groupby(['Town','Price_Category'])['Province']\n",
        "weights = {1:1, 2:2, 3:3, 4:4}\n",
        "town_dict ={}\n",
        "for name, group in temp:\n",
        "    if name[0] in town_dict:\n",
        "        town_dict[name[0]] = town_dict[name[0]] + weights[name[1]]*group.count()\n",
        "    else:\n",
        "        town_dict[name[0]]= weights[name[1]]*group.count()\n",
        "#print(town_dict)\n",
        "temp = df_location.groupby(['Town'])['Province']"
      ],
      "execution_count": 687,
      "outputs": []
    },
    {
      "cell_type": "code",
      "metadata": {
        "trusted": true,
        "id": "rfv4RRVo_qcV"
      },
      "source": [
        "temp1 = df_location.groupby(['Town'])['Province'].count()\n",
        "for i in town_dict:\n",
        "    town_dict[i] = town_dict[i]/temp1[i]"
      ],
      "execution_count": 688,
      "outputs": []
    },
    {
      "cell_type": "code",
      "metadata": {
        "trusted": true,
        "colab": {
          "base_uri": "https://localhost:8080/"
        },
        "id": "WNlbh0gS_qcV",
        "outputId": "fa422228-e70c-4087-db8e-3bcd4b7f8d1b"
      },
      "source": [
        "min(town_dict.values()), max(town_dict.values())"
      ],
      "execution_count": 689,
      "outputs": [
        {
          "output_type": "execute_result",
          "data": {
            "text/plain": [
              "(1.0, 4.0)"
            ]
          },
          "metadata": {
            "tags": []
          },
          "execution_count": 689
        }
      ]
    },
    {
      "cell_type": "code",
      "metadata": {
        "trusted": true,
        "id": "UWkQt5T3_qcW"
      },
      "source": [
        "def map_town(row):\n",
        "    if row['Town'] in town_dict:\n",
        "        return town_dict[row['Town']]\n",
        "    else: return 2.5\n",
        "\n",
        "def map_city(row):\n",
        "    if row['City'] == ' Islamabad':\n",
        "        return 1\n",
        "    if row['City'] == ' Lahore':\n",
        "        return 2\n",
        "    else: return 3\n",
        "df_location['Loc_Score'] = df_location.apply(lambda row: map_town(row), axis=1)\n",
        "df_location1['Loc_Score'] = df_location1.apply(lambda row: map_town(row), axis=1)"
      ],
      "execution_count": 690,
      "outputs": []
    },
    {
      "cell_type": "code",
      "metadata": {
        "trusted": true,
        "id": "Dn_TnQ1X_qcW"
      },
      "source": [
        "df_train['Loc_Score'] = df_location['Loc_Score']\n",
        "df_test['Loc_Score'] = df_location1['Loc_Score']\n",
        "df_train['City'] = df_location.apply(lambda row: map_city(row), axis=1)\n",
        "df_test['City'] = df_location1.apply(lambda row: map_city(row), axis=1)"
      ],
      "execution_count": 691,
      "outputs": []
    },
    {
      "cell_type": "code",
      "metadata": {
        "trusted": true,
        "id": "7r_6eBAm_qcX"
      },
      "source": [
        "def map_area(row):\n",
        "    a = row['Area'].split(' ')\n",
        "    if a[1] == 'Kanal':\n",
        "        return float(a[0].replace(',', ''))*20\n",
        "    else:\n",
        "        return float(a[0].replace(',', ''))\n",
        "df_train['Area'] = df_train.apply(lambda row: map_area(row), axis=1)\n",
        "df_test['Area'] = df_test.apply(lambda row: map_area(row), axis=1)"
      ],
      "execution_count": 692,
      "outputs": []
    },
    {
      "cell_type": "code",
      "metadata": {
        "trusted": true,
        "id": "aQvwSQF9_qcY"
      },
      "source": [
        "df_train['Bed1'] = df_train['Bedroom(s)'].replace('-', np.NaN).astype('float')\n",
        "df_train['Bath1'] = df_train['Baths'].replace('-', np.NaN).astype('float')\n",
        "df_test['Bed1'] = df_test['Bedroom(s)'].replace('-', np.NaN).astype('float')\n",
        "df_test['Bath1'] = df_test['Baths'].replace('-', np.NaN).astype('float')"
      ],
      "execution_count": 693,
      "outputs": []
    },
    {
      "cell_type": "code",
      "metadata": {
        "trusted": true,
        "id": "Ialr4mHI_qcY"
      },
      "source": [
        "# Number 1\n",
        "\n",
        "def Check_Nulls(df_type):\n",
        "    print(\"Beds with a - :\", df_type[(df_type['Bedroom(s)'] == '-')].shape)\n",
        "    df_type[(df_type['Bedroom(s)'] == '-') & (df_type['Rooms'] == ' ') ].shape\n",
        "    print(\"Beds with a - and data available in Rooms :\", df_type[(df_type['Bedroom(s)'] == '-') & (df_type['Rooms'] != ' ') ].shape)\n",
        "\n",
        "    print(\"Baths with a - :\", df_type[(df_type['Baths'] == '-')].shape)\n",
        "    df_type[(df_type['Baths'] == '-') & (df_type['Rooms'] == ' ') ]\n",
        "    print(\"Baths with a - and data available in Rooms :\", df_type[(df_type['Baths'] == '-')  & (df_type['Rooms'] != ' ')].shape)\n",
        "\n",
        "def Create_list(df_type):\n",
        "    my_list = []\n",
        "    for i in range(df_type.shape[0]):\n",
        "        list_features = df_type['Rooms'][i].split(\",\")\n",
        "        my_list.append(list_features)\n",
        "    return my_list \n",
        "\n",
        "# Adding data to some of the bedroom columns. The following two conditions apply:\n",
        "# Prior Conditions: (df_train['Bedroom(s)'] == '-') & (df_train['Rooms'] != ' ')\n",
        "# Then if my_list[i][0].strip()[0:9] == 'Bedrooms:' holds, get last element by my_list[i][0].strip()[-1]\n",
        "\n",
        "def Add_Beds(df_type):\n",
        "    for i in range(df_type.shape[0]):\n",
        "        if (df_type.loc[[i], 'Bedroom(s)'][i] == '-') & (df_type.loc[[i], 'Rooms'][i] != ' '):\n",
        "            if my_list[i][0].strip()[0:9] == 'Bedrooms:':\n",
        "                num = my_list[i][0].strip()[-1]\n",
        "                df_type.loc[[i], 'Bedroom(s)' ] = int(num)\n",
        "\n",
        "# Prior Conditions: (df_train['Baths'] == '-') & (df_train['Rooms'] != ' ')\n",
        "# First condition is len(my_list[i]) >= 2:\n",
        "# Then my_list[i][1].strip()[0:10] == \"Bathrooms:\" \n",
        "\n",
        "def Add_Baths(df_type):\n",
        "    for i in range(df_type.shape[0]):\n",
        "        if (df_type.loc[[i], 'Baths'][i] == '-') & (df_type.loc[[i], 'Rooms'][i] != ' '):\n",
        "            if len(my_list[i]) >=2:\n",
        "                if my_list[i][1].strip()[0:10] == 'Bathrooms:':\n",
        "                    num = my_list[i][1].strip()[-1]\n",
        "                    df_type.loc[[i], 'Baths' ] = int(num)\n"
      ],
      "execution_count": 694,
      "outputs": []
    },
    {
      "cell_type": "code",
      "metadata": {
        "trusted": true,
        "colab": {
          "base_uri": "https://localhost:8080/"
        },
        "id": "vw-Y89jj_qcY",
        "outputId": "9f1e7b7b-f567-4bce-8785-ce8bfc205c5c"
      },
      "source": [
        "my_list = Create_list(df_train)\n",
        "Add_Beds(df_train)\n",
        "Add_Baths(df_train)\n",
        "Check_Nulls(df_train)"
      ],
      "execution_count": 695,
      "outputs": [
        {
          "output_type": "stream",
          "text": [
            "Beds with a - : (61, 24)\n",
            "Beds with a - and data available in Rooms : (5, 24)\n",
            "Baths with a - : (176, 24)\n",
            "Baths with a - and data available in Rooms : (103, 24)\n"
          ],
          "name": "stdout"
        }
      ]
    },
    {
      "cell_type": "code",
      "metadata": {
        "trusted": true,
        "id": "m4JsISFd_qcZ"
      },
      "source": [
        "# Number 3\n",
        "# Extracting possible number of beds and washrooms from Description\n",
        "def Extract_Desc(df_type, word_list, room):\n",
        "    for i in range(df_type.shape[0]):\n",
        "        if (df_type[room][i] == '-'):\n",
        "            current = df_type['Description'].str.strip().str.lower()[i].split(\" \")\n",
        "            for each in word_list:\n",
        "                if each in current:\n",
        "                    y = current.index(each)\n",
        "                    if y != 0:\n",
        "                        get_before = y-1\n",
        "                        val = current[get_before] \n",
        "                        try:\n",
        "                            new_val = int(val)\n",
        "                            df_type[room][i] = new_val\n",
        "                        except:\n",
        "                            pass\n",
        "\n",
        "bed_list = ['bed', 'beds', 'bedroom', 'bedrooms']\n",
        "bath_list = ['bath', 'baths', 'bathroom', 'bathrooms', 'wash', 'washroom', 'washrooms']\n",
        "\n",
        "Extract_Desc(df_train, bath_list, \"Baths\" )\n",
        "Extract_Desc(df_train, bed_list, \"Bedroom(s)\" )\n",
        "# add here\n",
        "\n",
        "def Equate_both(df_type):\n",
        "    for i in range(df_type.shape[0]):\n",
        "        if (df_type['Bedroom(s)'][i] == '-') & (df_type['Baths'][i] != '-'):\n",
        "            df_type['Bedroom(s)'][i] = df_type['Baths'][i]\n",
        "\n",
        "    for i in range(df_type.shape[0]):\n",
        "        if (df_type['Baths'][i] == '-') & (df_type['Bedroom(s)'][i] != '-'):\n",
        "            df_type['Baths'][i] = df_type['Bedroom(s)'][i]\n",
        "\n",
        "#Equate_both(df_train)"
      ],
      "execution_count": 696,
      "outputs": []
    },
    {
      "cell_type": "code",
      "metadata": {
        "trusted": true,
        "id": "lWiw1_Ni_qca"
      },
      "source": [
        "from sklearn.impute import KNNImputer\n",
        "\n",
        "# Number 4 \n",
        "for i in range(df_train.shape[0]):\n",
        "    if df_train['Baths'][i] == '-':\n",
        "        df_train['Baths'][i] = '-1'\n",
        "for i in range(df_train.shape[0]):\n",
        "    if df_train['Bedroom(s)'][i] == '-':\n",
        "        df_train['Bedroom(s)'][i] = '-1'\n",
        "\n",
        "df_train['Baths'] = df_train['Baths'].astype(int)\n",
        "df_train['Bedroom(s)'] = df_train['Bedroom(s)'].astype(int)\n",
        "\n",
        "for i in range(df_train.shape[0]):\n",
        "    if df_train['Baths'][i] == -1:\n",
        "        df_train['Baths'][i] = np.nan\n",
        "for i in range(df_train.shape[0]):\n",
        "    if df_train['Bedroom(s)'][i] == -1:\n",
        "        df_train['Bedroom(s)'][i] = np.nan\n",
        "\n",
        "X = df_train.loc[:, ['Area','Loc_Score', 'Bedroom(s)', 'Baths']]\n",
        "imputer = KNNImputer(n_neighbors=2, weights=\"uniform\")\n",
        "sub = imputer.fit_transform(X)\n",
        "\n",
        "sub_data = pd.DataFrame(sub, columns = ['Area','Loc_Score','Bedroom(s)','Baths'])\n",
        "df_train.drop(columns=['Area','Loc_Score','Bedroom(s)','Baths'], inplace= True)\n",
        "df_train = pd.concat([df_train, sub_data], axis=1, join=\"inner\")\n"
      ],
      "execution_count": 697,
      "outputs": []
    },
    {
      "cell_type": "code",
      "metadata": {
        "trusted": true,
        "colab": {
          "base_uri": "https://localhost:8080/"
        },
        "id": "8SEPhvLd_qca",
        "outputId": "c7e7fb93-5400-45ae-b982-93df018afb45"
      },
      "source": [
        "# Number 5- Complete for Test \n",
        "\n",
        "my_list = Create_list(df_test)\n",
        "Add_Beds(df_test)\n",
        "Add_Baths(df_test)\n",
        "Check_Nulls(df_test)\n",
        "\n",
        "Extract_Desc(df_test, bath_list, \"Baths\" )\n",
        "Extract_Desc(df_test, bed_list, \"Bedroom(s)\" )\n",
        "\n",
        "Equate_both(df_test)\n",
        "\n",
        "for i in range(df_test.shape[0]):\n",
        "    if df_test['Baths'][i] == '-':\n",
        "        df_test['Baths'][i] = '-1'\n",
        "for i in range(df_test.shape[0]):\n",
        "    if df_test['Bedroom(s)'][i] == '-':\n",
        "        df_test['Bedroom(s)'][i] = '-1'\n",
        "\n",
        "df_test['Baths'] = df_test['Baths'].astype(int)\n",
        "df_test['Bedroom(s)'] = df_test['Bedroom(s)'].astype(int)\n",
        "\n",
        "for i in range(df_test.shape[0]):\n",
        "    if df_test['Baths'][i] == -1:\n",
        "        df_test['Baths'][i] = np.nan\n",
        "for i in range(df_test.shape[0]):\n",
        "    if df_test['Bedroom(s)'][i] == -1:\n",
        "        df_test['Bedroom(s)'][i] = np.nan\n",
        "\n",
        "X = df_test.loc[:, ['Area','Loc_Score', 'Bedroom(s)', 'Baths']]\n",
        "imputer = KNNImputer(n_neighbors=2, weights=\"uniform\")\n",
        "sub = imputer.fit_transform(X)\n",
        "\n",
        "sub_data = pd.DataFrame(sub, columns = ['Area','Loc_Score','Bedroom(s)','Baths'])\n",
        "df_test.drop(columns=['Area','Loc_Score','Bedroom(s)','Baths'], inplace= True)\n",
        "df_test = pd.concat([df_test, sub_data], axis=1, join=\"inner\")\n",
        "\n",
        "print(df_test['Baths'].isnull().sum())\n",
        "print(df_test['Bedroom(s)'].isnull().sum())\n",
        "df_test.info()"
      ],
      "execution_count": 698,
      "outputs": [
        {
          "output_type": "stream",
          "text": [
            "Beds with a - : (9, 23)\n",
            "Beds with a - and data available in Rooms : (0, 23)\n",
            "Baths with a - : (37, 23)\n",
            "Baths with a - and data available in Rooms : (25, 23)\n",
            "0\n",
            "0\n",
            "<class 'pandas.core.frame.DataFrame'>\n",
            "RangeIndex: 545 entries, 0 to 544\n",
            "Data columns (total 23 columns):\n",
            " #   Column                                 Non-Null Count  Dtype  \n",
            "---  ------                                 --------------  -----  \n",
            " 0   Property_Id                            545 non-null    int64  \n",
            " 1   Title                                  545 non-null    object \n",
            " 2   Label                                  545 non-null    object \n",
            " 3   Type                                   545 non-null    object \n",
            " 4   Location                               545 non-null    object \n",
            " 5   Purpose                                545 non-null    object \n",
            " 6   Description                            545 non-null    object \n",
            " 7   Main Features                          545 non-null    object \n",
            " 8   Rooms                                  545 non-null    object \n",
            " 9   Business and Communication             545 non-null    object \n",
            " 10  Healthcare Recreational                545 non-null    object \n",
            " 11  Nearby Locations and Other Facilities  545 non-null    object \n",
            " 12  Other Facilities                       545 non-null    object \n",
            " 13  Popular                                369 non-null    object \n",
            " 14  Source                                 545 non-null    object \n",
            " 15  Time Stamp                             545 non-null    object \n",
            " 16  City                                   545 non-null    int64  \n",
            " 17  Bed1                                   531 non-null    float64\n",
            " 18  Bath1                                  501 non-null    float64\n",
            " 19  Area                                   545 non-null    float64\n",
            " 20  Loc_Score                              545 non-null    float64\n",
            " 21  Bedroom(s)                             545 non-null    float64\n",
            " 22  Baths                                  545 non-null    float64\n",
            "dtypes: float64(6), int64(2), object(15)\n",
            "memory usage: 98.1+ KB\n"
          ],
          "name": "stdout"
        }
      ]
    },
    {
      "cell_type": "code",
      "metadata": {
        "trusted": true,
        "colab": {
          "base_uri": "https://localhost:8080/",
          "height": 378
        },
        "id": "F9GYyAxH_qcb",
        "outputId": "e3aeb6b2-e243-4866-9807-874deabcb111"
      },
      "source": [
        "print('There are ', df_train.Price_Category.unique().shape[0], ' classes in the dataset')\n",
        "df_train.groupby(['Price_Category'])['Area'].count().plot(kind = 'bar')"
      ],
      "execution_count": 699,
      "outputs": [
        {
          "output_type": "stream",
          "text": [
            "There are  4  classes in the dataset\n"
          ],
          "name": "stdout"
        },
        {
          "output_type": "execute_result",
          "data": {
            "text/plain": [
              "<matplotlib.axes._subplots.AxesSubplot at 0x7f6f3db67f90>"
            ]
          },
          "metadata": {
            "tags": []
          },
          "execution_count": 699
        },
        {
          "output_type": "display_data",
          "data": {
            "image/png": "[encoded data removed]",
            "text/plain": [
              "<Figure size 432x288 with 1 Axes>"
            ]
          },
          "metadata": {
            "tags": [],
            "needs_background": "light"
          }
        }
      ]
    },
    {
      "cell_type": "code",
      "metadata": {
        "trusted": true,
        "id": "DozsMxUN_qcc"
      },
      "source": [
        "# Analyze if other Facilities is a good metric for price\n",
        "def map_f1(row):\n",
        "    f1 = 0\n",
        "    if 'maintenance' in row['Other Facilities'].lower():\n",
        "        f1 = 1\n",
        "    return f1\n",
        "\n",
        "def map_f2(row):\n",
        "    f2 = 0\n",
        "    if 'security' in row['Other Facilities'].lower():\n",
        "        f2 = 1\n",
        "    return f2\n",
        "\n",
        "df_train['f1'] = df_train.apply(lambda row: map_f1(row), axis=1)\n",
        "df_train['f2'] = df_train.apply(lambda row: map_f2(row), axis=1)    \n",
        "df_test['f1'] = df_test.apply(lambda row: map_f1(row), axis=1)\n",
        "df_test['f2'] = df_test.apply(lambda row: map_f2(row), axis=1)    "
      ],
      "execution_count": 700,
      "outputs": []
    },
    {
      "cell_type": "code",
      "metadata": {
        "trusted": true,
        "colab": {
          "base_uri": "https://localhost:8080/",
          "height": 307
        },
        "id": "S3WHbhU-_qcc",
        "outputId": "5c8ee70c-8c07-42e3-e499-5ffe916b840c"
      },
      "source": [
        "df_train.groupby(['Price_Category','f1'])['Property_Id'].count().unstack('Price_Category').plot(kind = 'pie', subplots= True, figsize= (20,10), autopct='%1.1f%%')\n",
        "plt.title('Proportion of Houses by Category and F1')"
      ],
      "execution_count": 701,
      "outputs": [
        {
          "output_type": "execute_result",
          "data": {
            "text/plain": [
              "Text(0.5, 1.0, 'Proportion of Houses by Category and F1')"
            ]
          },
          "metadata": {
            "tags": []
          },
          "execution_count": 701
        },
        {
          "output_type": "display_data",
          "data": {
            "image/png": "[encoded data removed]",
            "text/plain": [
              "<Figure size 1440x720 with 4 Axes>"
            ]
          },
          "metadata": {
            "tags": []
          }
        }
      ]
    },
    {
      "cell_type": "code",
      "metadata": {
        "trusted": true,
        "colab": {
          "base_uri": "https://localhost:8080/",
          "height": 307
        },
        "id": "aqnjKeKg_qcc",
        "outputId": "38ee20d4-4322-4074-abae-1f2db0478ff1"
      },
      "source": [
        "df_train.groupby(['Price_Category','f2'])['Property_Id'].count().unstack('Price_Category').plot(kind = 'pie', subplots= True, figsize= (20,10), autopct='%1.1f%%')\n",
        "plt.title('Proportion of Houses by Category and F2')"
      ],
      "execution_count": 702,
      "outputs": [
        {
          "output_type": "execute_result",
          "data": {
            "text/plain": [
              "Text(0.5, 1.0, 'Proportion of Houses by Category and F2')"
            ]
          },
          "metadata": {
            "tags": []
          },
          "execution_count": 702
        },
        {
          "output_type": "display_data",
          "data": {
            "image/png": "[encoded data removed]",
            "text/plain": [
              "<Figure size 1440x720 with 4 Axes>"
            ]
          },
          "metadata": {
            "tags": []
          }
        }
      ]
    },
    {
      "cell_type": "code",
      "metadata": {
        "trusted": true,
        "id": "Fl8TVdkX_qcf"
      },
      "source": [
        "def map_pop(row):\n",
        "    if row['Popular'] == np.NaN:\n",
        "        return 0\n",
        "    if row['Popular']== 'hot':\n",
        "        return 1\n",
        "    else:\n",
        "        return 2\n",
        "\n",
        "df_train['pop'] = df_train.apply(lambda row: map_pop(row), axis=1)\n",
        "df_test['pop'] = df_test.apply(lambda row: map_pop(row), axis=1)"
      ],
      "execution_count": 703,
      "outputs": []
    },
    {
      "cell_type": "code",
      "metadata": {
        "trusted": true,
        "id": "MPGiIThx_qcg"
      },
      "source": [
        "import re\n",
        "df_train['Rooms'] = df_train['Rooms'].fillna(value = '0')\n",
        "df_test['Rooms'] = df_test['Rooms'].fillna(value = '0')\n",
        "\n",
        "def map_room(row):\n",
        "    if len(row['Rooms']) < 2:\n",
        "        return (row['Bedroom(s)'] + row['Baths'])\n",
        "        #return 0\n",
        "        \n",
        "    #s = df_train['Rooms'].str.strip()\n",
        "    a = re.split(',|:',  row['Rooms'])\n",
        "    x = 0\n",
        "    for i in a:\n",
        "        try:\n",
        "            x = x + int(i)\n",
        "        except:\n",
        "            pass\n",
        "\n",
        "    return (x)\n",
        "\n",
        "df_train['Rooms'] = df_train.apply(lambda row: map_room(row), axis=1)\n",
        "\n",
        "df_test['Rooms'] = df_test.apply(lambda row: map_room(row), axis=1)"
      ],
      "execution_count": 704,
      "outputs": []
    },
    {
      "cell_type": "code",
      "metadata": {
        "trusted": true,
        "colab": {
          "base_uri": "https://localhost:8080/",
          "height": 197
        },
        "id": "duyU7qJa_qcg",
        "outputId": "93227dd2-100a-44df-f44b-3814f8258bf6"
      },
      "source": [
        "#cols = ['Baths', 'Bedroom(s)', 'Loc_Score', 'Area','City', 'Price_Category']\n",
        "df_train['s'] = df_train['Area']**(1.5 *df_train['Bedroom(s)'])\n",
        "df_train['s1'] = df_train['Rooms']*(df_train['Area'])\n",
        "df_test['s'] = df_test['Area']**(1.5 *df_test['Bedroom(s)'])\n",
        "df_test['s1'] = df_test['Rooms']*(df_test['Area'])\n",
        "cols = ['Rooms', 'Loc_Score', 'Area','City', 's','s1', 'Price_Category']\n",
        "df_train[cols].head()"
      ],
      "execution_count": 705,
      "outputs": [
        {
          "output_type": "execute_result",
          "data": {
            "text/html": [
              "<div>\n",
              "<style scoped>\n",
              "    .dataframe tbody tr th:only-of-type {\n",
              "        vertical-align: middle;\n",
              "    }\n",
              "\n",
              "    .dataframe tbody tr th {\n",
              "        vertical-align: top;\n",
              "    }\n",
              "\n",
              "    .dataframe thead th {\n",
              "        text-align: right;\n",
              "    }\n",
              "</style>\n",
              "<table border=\"1\" class=\"dataframe\">\n",
              "  <thead>\n",
              "    <tr style=\"text-align: right;\">\n",
              "      <th></th>\n",
              "      <th>Rooms</th>\n",
              "      <th>Loc_Score</th>\n",
              "      <th>Area</th>\n",
              "      <th>City</th>\n",
              "      <th>s</th>\n",
              "      <th>s1</th>\n",
              "      <th>Price_Category</th>\n",
              "    </tr>\n",
              "  </thead>\n",
              "  <tbody>\n",
              "    <tr>\n",
              "      <th>0</th>\n",
              "      <td>17.0</td>\n",
              "      <td>3.148418</td>\n",
              "      <td>20.0</td>\n",
              "      <td>2</td>\n",
              "      <td>5.724334e+09</td>\n",
              "      <td>340.0</td>\n",
              "      <td>Semi-Premium</td>\n",
              "    </tr>\n",
              "    <tr>\n",
              "      <th>1</th>\n",
              "      <td>10.0</td>\n",
              "      <td>3.000000</td>\n",
              "      <td>24.0</td>\n",
              "      <td>1</td>\n",
              "      <td>2.246903e+10</td>\n",
              "      <td>240.0</td>\n",
              "      <td>Semi-Premium</td>\n",
              "    </tr>\n",
              "    <tr>\n",
              "      <th>2</th>\n",
              "      <td>14.0</td>\n",
              "      <td>3.565313</td>\n",
              "      <td>20.0</td>\n",
              "      <td>2</td>\n",
              "      <td>5.120000e+11</td>\n",
              "      <td>280.0</td>\n",
              "      <td>Premium</td>\n",
              "    </tr>\n",
              "    <tr>\n",
              "      <th>3</th>\n",
              "      <td>7.0</td>\n",
              "      <td>2.891960</td>\n",
              "      <td>9.4</td>\n",
              "      <td>3</td>\n",
              "      <td>2.393731e+04</td>\n",
              "      <td>65.8</td>\n",
              "      <td>Semi-Premium</td>\n",
              "    </tr>\n",
              "    <tr>\n",
              "      <th>4</th>\n",
              "      <td>6.0</td>\n",
              "      <td>2.913043</td>\n",
              "      <td>5.0</td>\n",
              "      <td>1</td>\n",
              "      <td>1.397542e+03</td>\n",
              "      <td>30.0</td>\n",
              "      <td>Affordable</td>\n",
              "    </tr>\n",
              "  </tbody>\n",
              "</table>\n",
              "</div>"
            ],
            "text/plain": [
              "   Rooms  Loc_Score  Area  City             s     s1 Price_Category\n",
              "0   17.0   3.148418  20.0     2  5.724334e+09  340.0   Semi-Premium\n",
              "1   10.0   3.000000  24.0     1  2.246903e+10  240.0   Semi-Premium\n",
              "2   14.0   3.565313  20.0     2  5.120000e+11  280.0        Premium\n",
              "3    7.0   2.891960   9.4     3  2.393731e+04   65.8   Semi-Premium\n",
              "4    6.0   2.913043   5.0     1  1.397542e+03   30.0     Affordable"
            ]
          },
          "metadata": {
            "tags": []
          },
          "execution_count": 705
        }
      ]
    },
    {
      "cell_type": "code",
      "metadata": {
        "trusted": true,
        "id": "b9xfhVDq_qcg"
      },
      "source": [
        "df_train.groupby(['Price_Category'])['Area'].min()\n",
        "df_train = df_train[df_train['Area'] > 2]"
      ],
      "execution_count": 706,
      "outputs": []
    },
    {
      "cell_type": "code",
      "metadata": {
        "trusted": true,
        "colab": {
          "base_uri": "https://localhost:8080/"
        },
        "id": "ubSGdrRf_qch",
        "outputId": "ab35b1a9-8796-49af-ed0c-19864a395ff3"
      },
      "source": [
        "df_train.groupby(['Price_Category'])['s1'].max()"
      ],
      "execution_count": 707,
      "outputs": [
        {
          "output_type": "execute_result",
          "data": {
            "text/plain": [
              "Price_Category\n",
              "Affordable        80.0\n",
              "Cheap             50.4\n",
              "Premium         3900.0\n",
              "Semi-Premium    2000.0\n",
              "Name: s1, dtype: float64"
            ]
          },
          "metadata": {
            "tags": []
          },
          "execution_count": 707
        }
      ]
    },
    {
      "cell_type": "markdown",
      "metadata": {
        "id": "y2uAy-jvI4cZ"
      },
      "source": [
        "### **Analyzing Correlation**"
      ]
    },
    {
      "cell_type": "code",
      "metadata": {
        "colab": {
          "base_uri": "https://localhost:8080/",
          "height": 514
        },
        "id": "_rFDau73IqoB",
        "outputId": "25cdad0e-77ca-480e-f999-d54a9b6ee346"
      },
      "source": [
        "corr_mat = df_train.corr()\n",
        "plt.subplots(figsize=(20,8))\n",
        "sns.heatmap(corr_mat, annot = True, linewidths=3, linecolor='black')\n",
        "plt.title('Correlation Plot')\n",
        "plt.xlabel('Features')\n",
        "plt.show()"
      ],
      "execution_count": 708,
      "outputs": [
        {
          "output_type": "display_data",
          "data": {
            "image/png": "[encoded data removed]",
            "text/plain": [
              "<Figure size 1440x576 with 2 Axes>"
            ]
          },
          "metadata": {
            "tags": [],
            "needs_background": "light"
          }
        }
      ]
    },
    {
      "cell_type": "markdown",
      "metadata": {
        "id": "BxRuSxHQGE-v"
      },
      "source": [
        "##**Creating Machine Learning Models**"
      ]
    },
    {
      "cell_type": "code",
      "metadata": {
        "trusted": true,
        "id": "2wi0j9Im_qch"
      },
      "source": [
        "from sklearn.model_selection import train_test_split\n",
        "from sklearn.ensemble import RandomForestClassifier\n",
        "from sklearn.metrics import accuracy_score, f1_score, precision_score, recall_score, classification_report, multilabel_confusion_matrix\n",
        "from sklearn.multiclass import OneVsRestClassifier\n",
        "#train_features = df_train[cols].replace(' ',np.NaN).replace('-',np.NaN)\n",
        "#train_features = train_features.dropna()\n",
        "df_train = df_train[df_train['Property_Id']!=443]\n",
        "df_train = df_train[df_train['Property_Id']!=1120]\n",
        "cols = ['Rooms', 'Loc_Score', 'Area','City', 's','s1', 'Price_Category']\n",
        "train_features = df_train[cols]\n",
        "Score_dictionary ={}\n",
        "\n",
        "#train_features = train_features[train_features['Area']>=1]\n",
        "y= train_features.apply(lambda row: map_cat(row), axis=1)\n",
        "train_features, test_features, train_labels, test_labels = train_test_split(train_features[cols[:-1]], y,test_size=0.15)"
      ],
      "execution_count": 709,
      "outputs": []
    },
    {
      "cell_type": "markdown",
      "metadata": {
        "id": "T5RoaFlvGSHZ"
      },
      "source": [
        "###**OneVsRestClassifier**"
      ]
    },
    {
      "cell_type": "code",
      "metadata": {
        "trusted": true,
        "colab": {
          "base_uri": "https://localhost:8080/"
        },
        "id": "HtULmeaH_qch",
        "outputId": "83d27fc0-29d8-4884-9b17-6918cd08f16e"
      },
      "source": [
        "from xgboost import XGBClassifier\n",
        "from sklearn.preprocessing import MultiLabelBinarizer\n",
        "clf = OneVsRestClassifier(XGBClassifier(subsample = 0.3))\n",
        "\n",
        "#mlb = MultiLabelBinarizer()\n",
        "#train_labels = mlb.fit_transform(train_labels)\n",
        "\n",
        "clf.fit(train_features, train_labels)\n",
        "\n",
        "predictions = clf.predict(test_features)\n",
        "predictions1 = clf.predict(train_features)\n",
        "print(\"Train Accuracy: \", accuracy_score(train_labels, predictions1)*100)\n",
        "print(\"Test Accuracy: \", accuracy_score(test_labels, predictions)*100)\n",
        "print(\"F1 Score     : \", f1_score(test_labels, predictions, average='weighted'))\n",
        "print(\"Precision    : \", precision_score(test_labels, predictions,average='weighted'))\n",
        "print(\"Recall       : \", recall_score(test_labels, predictions, average='weighted'))\n",
        "\n",
        "Score_dictionary['OneVsRestClassifier'] = [accuracy_score(train_labels, predictions1)*100, accuracy_score(test_labels, predictions)*100,\n",
        "                                           f1_score(test_labels, predictions, average='weighted'),precision_score(test_labels, predictions,average='weighted'),\n",
        "                                           recall_score(test_labels, predictions, average='weighted') ]"
      ],
      "execution_count": 710,
      "outputs": [
        {
          "output_type": "stream",
          "text": [
            "Train Accuracy:  91.99846860643184\n",
            "Test Accuracy:  87.85249457700651\n",
            "F1 Score     :  0.8758104266261164\n",
            "Precision    :  0.8770880613926313\n",
            "Recall       :  0.8785249457700651\n"
          ],
          "name": "stdout"
        },
        {
          "output_type": "stream",
          "text": [
            "/usr/local/lib/python3.7/dist-packages/sklearn/metrics/_classification.py:1272: UndefinedMetricWarning: Precision is ill-defined and being set to 0.0 in labels with no predicted samples. Use `zero_division` parameter to control this behavior.\n",
            "  _warn_prf(average, modifier, msg_start, len(result))\n"
          ],
          "name": "stderr"
        }
      ]
    },
    {
      "cell_type": "markdown",
      "metadata": {
        "id": "hdTq_3lbICx3"
      },
      "source": [
        "###**RandomForestClassifier**"
      ]
    },
    {
      "cell_type": "code",
      "metadata": {
        "id": "W5LbkK2G_qci",
        "colab": {
          "base_uri": "https://localhost:8080/",
          "height": 837
        },
        "outputId": "b940ed42-86c1-4189-c402-492e1b7cbc46"
      },
      "source": [
        "import matplotlib.pyplot as plt\n",
        "clf = RandomForestClassifier(n_estimators=100, max_depth=8, oob_score=True, class_weight = {1: 10, 2: 5, 3:1, 4:1})\n",
        "\n",
        "clf.fit(train_features, train_labels)\n",
        "\n",
        "predictions = clf.predict(test_features)\n",
        "predictions1 = clf.predict(train_features)\n",
        "print(\"Train Accuracy: \", accuracy_score(train_labels, predictions1)*100)\n",
        "print(\"Test Accuracy: \", accuracy_score(test_labels, predictions)*100)\n",
        "print(\"F1 Score     : \", f1_score(test_labels, predictions, average='weighted'))\n",
        "print(\"Precision    : \", precision_score(test_labels, predictions,average='weighted'))\n",
        "print(\"Recall       : \", recall_score(test_labels, predictions, average='weighted'))\n",
        "#print(multilabel_confusion_matrix(test_labels, predictions))\n",
        "indices = clf.feature_importances_\n",
        "plt.figure(figsize=(15,8))\n",
        "plt.title('Feature Importances')\n",
        "plt.barh(range(len(indices)), indices, color='b', align='center')\n",
        "plt.yticks(range(len(indices)), cols[:-1])\n",
        "plt.xlabel('Relative Importance');\n",
        "\n",
        "Score_dictionary['RandomForestClassifier'] = [accuracy_score(train_labels, predictions1)*100, accuracy_score(test_labels, predictions)*100,\n",
        "                                           f1_score(test_labels, predictions, average='weighted'),precision_score(test_labels, predictions,average='weighted'),\n",
        "                                           recall_score(test_labels, predictions, average='weighted') ]\n",
        "\n",
        "y_true = pd.Series(test_labels)\n",
        "y_pred = pd.Series(predictions)\n",
        "\n",
        "pd.crosstab(y_true, y_pred, rownames=['True'], colnames=['Predicted'], margins=True)\n"
      ],
      "execution_count": 711,
      "outputs": [
        {
          "output_type": "stream",
          "text": [
            "Train Accuracy:  93.52986217457887\n",
            "Test Accuracy:  88.28633405639913\n",
            "F1 Score     :  0.8801608537788995\n",
            "Precision    :  0.881730974804677\n",
            "Recall       :  0.8828633405639913\n"
          ],
          "name": "stdout"
        },
        {
          "output_type": "stream",
          "text": [
            "/usr/local/lib/python3.7/dist-packages/sklearn/metrics/_classification.py:1272: UndefinedMetricWarning: Precision is ill-defined and being set to 0.0 in labels with no predicted samples. Use `zero_division` parameter to control this behavior.\n",
            "  _warn_prf(average, modifier, msg_start, len(result))\n"
          ],
          "name": "stderr"
        },
        {
          "output_type": "execute_result",
          "data": {
            "text/html": [
              "<div>\n",
              "<style scoped>\n",
              "    .dataframe tbody tr th:only-of-type {\n",
              "        vertical-align: middle;\n",
              "    }\n",
              "\n",
              "    .dataframe tbody tr th {\n",
              "        vertical-align: top;\n",
              "    }\n",
              "\n",
              "    .dataframe thead th {\n",
              "        text-align: right;\n",
              "    }\n",
              "</style>\n",
              "<table border=\"1\" class=\"dataframe\">\n",
              "  <thead>\n",
              "    <tr style=\"text-align: right;\">\n",
              "      <th>Predicted</th>\n",
              "      <th>2</th>\n",
              "      <th>3</th>\n",
              "      <th>4</th>\n",
              "      <th>All</th>\n",
              "    </tr>\n",
              "    <tr>\n",
              "      <th>True</th>\n",
              "      <th></th>\n",
              "      <th></th>\n",
              "      <th></th>\n",
              "      <th></th>\n",
              "    </tr>\n",
              "  </thead>\n",
              "  <tbody>\n",
              "    <tr>\n",
              "      <th>2</th>\n",
              "      <td>0</td>\n",
              "      <td>3</td>\n",
              "      <td>0</td>\n",
              "      <td>3</td>\n",
              "    </tr>\n",
              "    <tr>\n",
              "      <th>3</th>\n",
              "      <td>1</td>\n",
              "      <td>26</td>\n",
              "      <td>16</td>\n",
              "      <td>43</td>\n",
              "    </tr>\n",
              "    <tr>\n",
              "      <th>4</th>\n",
              "      <td>3</td>\n",
              "      <td>20</td>\n",
              "      <td>11</td>\n",
              "      <td>34</td>\n",
              "    </tr>\n",
              "    <tr>\n",
              "      <th>All</th>\n",
              "      <td>4</td>\n",
              "      <td>49</td>\n",
              "      <td>27</td>\n",
              "      <td>80</td>\n",
              "    </tr>\n",
              "  </tbody>\n",
              "</table>\n",
              "</div>"
            ],
            "text/plain": [
              "Predicted  2   3   4  All\n",
              "True                     \n",
              "2          0   3   0    3\n",
              "3          1  26  16   43\n",
              "4          3  20  11   34\n",
              "All        4  49  27   80"
            ]
          },
          "metadata": {
            "tags": []
          },
          "execution_count": 711
        },
        {
          "output_type": "display_data",
          "data": {
            "image/png": "[encoded data removed]",
            "text/plain": [
              "<Figure size 1080x576 with 1 Axes>"
            ]
          },
          "metadata": {
            "tags": [],
            "needs_background": "light"
          }
        }
      ]
    },
    {
      "cell_type": "markdown",
      "metadata": {
        "id": "VSSpD7cJI_bo"
      },
      "source": [
        "###**Counting Predictions**"
      ]
    },
    {
      "cell_type": "code",
      "metadata": {
        "trusted": true,
        "id": "xECYpIeV_qci"
      },
      "source": [
        "preds = clf.predict(df_test[cols[:-1]])"
      ],
      "execution_count": 712,
      "outputs": []
    },
    {
      "cell_type": "code",
      "metadata": {
        "trusted": true,
        "colab": {
          "base_uri": "https://localhost:8080/"
        },
        "id": "6BMVuCFh_qci",
        "outputId": "263ea209-d2be-4687-e12b-2ebd097c5d4d"
      },
      "source": [
        "from collections import Counter\n",
        "Counter(preds)"
      ],
      "execution_count": 713,
      "outputs": [
        {
          "output_type": "execute_result",
          "data": {
            "text/plain": [
              "Counter({1: 1, 2: 24, 3: 308, 4: 212})"
            ]
          },
          "metadata": {
            "tags": []
          },
          "execution_count": 713
        }
      ]
    },
    {
      "cell_type": "markdown",
      "metadata": {
        "id": "Wco9K_msIHx3"
      },
      "source": [
        "###**KNN Classifier**"
      ]
    },
    {
      "cell_type": "code",
      "metadata": {
        "colab": {
          "base_uri": "https://localhost:8080/",
          "height": 367
        },
        "id": "YibgZLchENDW",
        "outputId": "93d69a77-a937-4e65-a161-67bffc827453"
      },
      "source": [
        "from sklearn.model_selection import train_test_split\n",
        "from sklearn.metrics import accuracy_score, f1_score, precision_score, recall_score, classification_report, multilabel_confusion_matrix\n",
        "from sklearn.neighbors import KNeighborsClassifier\n",
        "\n",
        "#train_features = df_train[cols].replace(' ',np.NaN).replace('-',np.NaN)\n",
        "#train_features = train_features.dropna()\n",
        "train_features = df_train[cols]\n",
        "# scaler = StandardScaler()\n",
        "# train_features = scaler.fit_transform(train_features)\n",
        "\n",
        "y = train_features.apply(lambda row: map_cat(row), axis=1)\n",
        "train_features, test_features, train_labels, test_labels = train_test_split(train_features[cols[:-1]], y,\n",
        "                                                                                test_size=0.30, stratify=y)\n",
        "\n",
        "error_rate = []\n",
        "\n",
        "for i in range(1,20): \n",
        " knn = KNeighborsClassifier(n_neighbors=i)\n",
        " knn.fit(train_features, train_labels)\n",
        " y_pred = knn.predict(test_features)\n",
        " error_rate.append(np.mean(y_pred != test_labels))\n",
        "\n",
        "plt.figure(figsize=(8,5))\n",
        "plt.plot(range(1,20),error_rate,color='blue', linestyle='dashed', marker='o',markerfacecolor='red', markersize=10)\n",
        "plt.title('Error Rate vs. K Value')\n",
        "plt.xlabel('Number of Neighbors-K')\n",
        "plt.ylabel('Error Rate')\n",
        "min_val = 1+error_rate.index(min(error_rate))\n",
        "print(\"Minimum error: \",np.around(min(error_rate),decimals=5),\"at K =\",min_val)"
      ],
      "execution_count": 714,
      "outputs": [
        {
          "output_type": "stream",
          "text": [
            "Minimum error:  0.1551 at K = 7\n"
          ],
          "name": "stdout"
        },
        {
          "output_type": "display_data",
          "data": {
            "image/png": "[encoded data removed]",
            "text/plain": [
              "<Figure size 576x360 with 1 Axes>"
            ]
          },
          "metadata": {
            "tags": [],
            "needs_background": "light"
          }
        }
      ]
    },
    {
      "cell_type": "code",
      "metadata": {
        "colab": {
          "base_uri": "https://localhost:8080/",
          "height": 812
        },
        "id": "62Wz0nTbEOec",
        "outputId": "03ae90a2-a0a1-464c-f11d-fc98b83a716c"
      },
      "source": [
        "#Create KNN Classifier\n",
        "knn = KNeighborsClassifier(n_neighbors=min_val)\n",
        "\n",
        "#Train the model using the training sets\n",
        "knn.fit(train_features, train_labels)\n",
        "\n",
        "predictions = knn.predict(test_features)\n",
        "predictions1 = knn.predict(train_features)\n",
        "print(\"Train Accuracy: \", accuracy_score(train_labels, predictions1)*100)\n",
        "print(\"Test Accuracy: \", accuracy_score(test_labels, predictions)*100)\n",
        "print(\"F1 Score     : \", f1_score(test_labels, predictions, average='weighted'))\n",
        "print(\"Precision    : \", precision_score(test_labels, predictions,average='weighted'))\n",
        "print(\"Recall       : \", recall_score(test_labels, predictions, average='weighted'))\n",
        "#print(multilabel_confusion_matrix(test_labels, predictions))\n",
        "indices = clf.feature_importances_\n",
        "plt.figure(figsize=(15,8))\n",
        "plt.title('Feature Importances')\n",
        "plt.barh(range(len(indices)), indices, color='b', align='center')\n",
        "plt.yticks(range(len(indices)), cols[:-1])\n",
        "plt.xlabel('Relative Importance');\n",
        "\n",
        "Score_dictionary['KNeighborsClassifier'] = [accuracy_score(train_labels, predictions1)*100, accuracy_score(test_labels, predictions)*100,\n",
        "                                           f1_score(test_labels, predictions, average='weighted'),precision_score(test_labels, predictions,average='weighted'),\n",
        "                                           recall_score(test_labels, predictions, average='weighted') ]\n",
        "\n",
        "y_true = pd.Series(test_labels)\n",
        "y_pred = pd.Series(predictions)\n",
        "\n",
        "pd.crosstab(y_true, y_pred, rownames=['True'], colnames=['Predicted'], margins=True)"
      ],
      "execution_count": 715,
      "outputs": [
        {
          "output_type": "stream",
          "text": [
            "Train Accuracy:  85.63458856345886\n",
            "Test Accuracy:  84.49023861171366\n",
            "F1 Score     :  0.8399203052312181\n",
            "Precision    :  0.8396265305333241\n",
            "Recall       :  0.8449023861171366\n"
          ],
          "name": "stdout"
        },
        {
          "output_type": "execute_result",
          "data": {
            "text/html": [
              "<div>\n",
              "<style scoped>\n",
              "    .dataframe tbody tr th:only-of-type {\n",
              "        vertical-align: middle;\n",
              "    }\n",
              "\n",
              "    .dataframe tbody tr th {\n",
              "        vertical-align: top;\n",
              "    }\n",
              "\n",
              "    .dataframe thead th {\n",
              "        text-align: right;\n",
              "    }\n",
              "</style>\n",
              "<table border=\"1\" class=\"dataframe\">\n",
              "  <thead>\n",
              "    <tr style=\"text-align: right;\">\n",
              "      <th>Predicted</th>\n",
              "      <th>2</th>\n",
              "      <th>3</th>\n",
              "      <th>4</th>\n",
              "      <th>All</th>\n",
              "    </tr>\n",
              "    <tr>\n",
              "      <th>True</th>\n",
              "      <th></th>\n",
              "      <th></th>\n",
              "      <th></th>\n",
              "      <th></th>\n",
              "    </tr>\n",
              "  </thead>\n",
              "  <tbody>\n",
              "    <tr>\n",
              "      <th>1</th>\n",
              "      <td>0</td>\n",
              "      <td>2</td>\n",
              "      <td>0</td>\n",
              "      <td>2</td>\n",
              "    </tr>\n",
              "    <tr>\n",
              "      <th>2</th>\n",
              "      <td>1</td>\n",
              "      <td>11</td>\n",
              "      <td>5</td>\n",
              "      <td>17</td>\n",
              "    </tr>\n",
              "    <tr>\n",
              "      <th>3</th>\n",
              "      <td>5</td>\n",
              "      <td>116</td>\n",
              "      <td>67</td>\n",
              "      <td>188</td>\n",
              "    </tr>\n",
              "    <tr>\n",
              "      <th>4</th>\n",
              "      <td>4</td>\n",
              "      <td>46</td>\n",
              "      <td>40</td>\n",
              "      <td>90</td>\n",
              "    </tr>\n",
              "    <tr>\n",
              "      <th>All</th>\n",
              "      <td>10</td>\n",
              "      <td>175</td>\n",
              "      <td>112</td>\n",
              "      <td>297</td>\n",
              "    </tr>\n",
              "  </tbody>\n",
              "</table>\n",
              "</div>"
            ],
            "text/plain": [
              "Predicted   2    3    4  All\n",
              "True                        \n",
              "1           0    2    0    2\n",
              "2           1   11    5   17\n",
              "3           5  116   67  188\n",
              "4           4   46   40   90\n",
              "All        10  175  112  297"
            ]
          },
          "metadata": {
            "tags": []
          },
          "execution_count": 715
        },
        {
          "output_type": "display_data",
          "data": {
            "image/png": "[encoded data removed]",
            "text/plain": [
              "<Figure size 1080x576 with 1 Axes>"
            ]
          },
          "metadata": {
            "tags": [],
            "needs_background": "light"
          }
        }
      ]
    },
    {
      "cell_type": "markdown",
      "metadata": {
        "id": "vqAjA2e2L752"
      },
      "source": [
        "###**Second Phase of Experiment**"
      ]
    },
    {
      "cell_type": "code",
      "metadata": {
        "trusted": true,
        "id": "gVAXrdwA_qck"
      },
      "source": [
        "df_train['pop'] = df_train['Loc_Score'] * df_train['pop'] \n",
        "cols = [ 'Rooms', 'Loc_Score', 'Area','City','pop' ,'s1', 's','Price_Category']\n",
        "train_features = df_train[cols]\n",
        "y1 = train_features[train_features['Price_Category']=='Cheap'].apply(lambda row: map_cat(row), axis=1)\n",
        "train1, test1, trlabels1, telabel1 = train_test_split(train_features[train_features['Price_Category']== 'Cheap'][cols[:-1]], y1,\n",
        "                                                                                test_size=0.30)"
      ],
      "execution_count": 716,
      "outputs": []
    },
    {
      "cell_type": "code",
      "metadata": {
        "trusted": true,
        "id": "viBLMVT6_qck"
      },
      "source": [
        "y1 = train_features[train_features['Price_Category']== 'Affordable'].apply(lambda row: map_cat(row), axis=1)\n",
        "train2, test2, trlabels2, telabel2 = train_test_split(train_features[train_features['Price_Category']== 'Affordable'][cols[:-1]], y1,\n",
        "                                                                                test_size=0.20)"
      ],
      "execution_count": 717,
      "outputs": []
    },
    {
      "cell_type": "code",
      "metadata": {
        "trusted": true,
        "id": "tLuU-LOx_qck"
      },
      "source": [
        "y1 = train_features[train_features['Price_Category']== 'Semi-Premium'].apply(lambda row: map_cat(row), axis=1)\n",
        "#discard 40 percent data\n",
        "#train3, test3, trlabels3, telabel3 = train_test_split(train_features[train_features['Price_Category']== 'Semi-Premium'][cols[:-1]], y1,\n",
        "#                                                                                test_size=0.50)\n",
        "train3, test3, trlabels3, telabel3 = train_test_split(train_features[train_features['Price_Category']== 'Semi-Premium'][cols[:-1]], y1, test_size=0.10)"
      ],
      "execution_count": 718,
      "outputs": []
    },
    {
      "cell_type": "code",
      "metadata": {
        "trusted": true,
        "id": "BAgCe3Qz_qck"
      },
      "source": [
        "y1 = train_features[train_features['Price_Category']== 'Premium'].apply(lambda row: map_cat(row), axis=1)\n",
        "#train4, test4, trlabels4, telabel4 = train_test_split(train_features[train_features['Price_Category']== 'Premium'][cols[:-1]], y1,\n",
        "#                                                                                test_size=0.50)\n",
        "train4, test4, trlabels4, telabel4 = train_test_split(train_features[train_features['Price_Category']== 'Premium'][cols[:-1]], y1, test_size=0.10)"
      ],
      "execution_count": 719,
      "outputs": []
    },
    {
      "cell_type": "code",
      "metadata": {
        "trusted": true,
        "id": "YOvl8thp_qcl"
      },
      "source": [
        "df1 = pd.DataFrame(columns = train1.columns)\n",
        "df1 = df1.append(train1, ignore_index = True)\n",
        "df1 = df1.append(train2, ignore_index = True)\n",
        "df1 = df1.append(train3, ignore_index = True)\n",
        "df1 = df1.append(train4, ignore_index = True)"
      ],
      "execution_count": 720,
      "outputs": []
    },
    {
      "cell_type": "code",
      "metadata": {
        "trusted": true,
        "id": "LkJkAvo2_qcl"
      },
      "source": [
        "df2 = pd.DataFrame(columns = train1.columns)\n",
        "df2 = df2.append(test1, ignore_index = True)\n",
        "df2 = df2.append(test2, ignore_index = True)\n",
        "df2 = df2.append(test3, ignore_index = True)\n",
        "df2 = df2.append(test4, ignore_index = True)"
      ],
      "execution_count": 721,
      "outputs": []
    },
    {
      "cell_type": "code",
      "metadata": {
        "trusted": true,
        "id": "wDHUeiXQ_qcl"
      },
      "source": [
        "train_m = trlabels1\n",
        "train_m = train_m.append(trlabels2)\n",
        "train_m = train_m.append(trlabels3)\n",
        "train_m = train_m.append(trlabels4)"
      ],
      "execution_count": 722,
      "outputs": []
    },
    {
      "cell_type": "code",
      "metadata": {
        "trusted": true,
        "id": "z7iM5JtX_qcl"
      },
      "source": [
        "test_m = telabel1\n",
        "test_m = test_m.append(telabel2)\n",
        "test_m = test_m.append(telabel3)\n",
        "test_m = test_m.append(telabel4)"
      ],
      "execution_count": 723,
      "outputs": []
    },
    {
      "cell_type": "code",
      "metadata": {
        "trusted": true,
        "id": "7g9ZR_1M_qcm"
      },
      "source": [
        "df1['labels'] = list(train_m)\n",
        "df2['labels'] = list(test_m)"
      ],
      "execution_count": 724,
      "outputs": []
    },
    {
      "cell_type": "code",
      "metadata": {
        "trusted": true,
        "id": "8Uhd8wQH_qcm"
      },
      "source": [
        "from sklearn.utils import shuffle\n",
        "df1 = shuffle(df1)\n",
        "df2 = shuffle(df2)"
      ],
      "execution_count": 725,
      "outputs": []
    },
    {
      "cell_type": "markdown",
      "metadata": {
        "id": "xshS_d9fITQ5"
      },
      "source": [
        "###**Second Attempt at Random Forest**"
      ]
    },
    {
      "cell_type": "code",
      "metadata": {
        "id": "jZ62wNTk_qcm",
        "colab": {
          "base_uri": "https://localhost:8080/",
          "height": 812
        },
        "outputId": "bdfbe715-1e9b-4963-ca80-f3cc35b7fb45"
      },
      "source": [
        "# Random Forest\n",
        "import matplotlib.pyplot as plt\n",
        "clf = RandomForestClassifier(n_estimators=100, max_depth=9, oob_score=True, class_weight = {1: 10, 2: 5, 3:1, 4:1})\n",
        "\n",
        "clf.fit(df1[cols[:-1]], df1['labels'])\n",
        "\n",
        "predictions = clf.predict(df2[cols[:-1]])\n",
        "predictions1 = clf.predict(df1[cols[:-1]])\n",
        "print(\"Train Accuracy: \", accuracy_score(df1['labels'], predictions1)*100)\n",
        "print(\"Test Accuracy: \", accuracy_score(df2['labels'], predictions)*100)\n",
        "print(\"F1 Score     : \", f1_score(df2['labels'], predictions, average='weighted'))\n",
        "print(\"Precision    : \", precision_score(df2['labels'], predictions,average='weighted'))\n",
        "print(\"Recall       : \", recall_score(df2['labels'], predictions, average='weighted'))\n",
        "#print(multilabel_confusion_matrix(test_labels, predictions))\n",
        "indices = clf.feature_importances_\n",
        "plt.figure(figsize=(15,8))\n",
        "plt.title('Feature Importances')\n",
        "plt.barh(range(len(indices)), indices, color='b', align='center')\n",
        "plt.yticks(range(len(indices)), cols[:-1])\n",
        "plt.xlabel('Relative Importance');\n",
        "\n",
        "y_true = pd.Series(df2['labels'])\n",
        "y_pred = pd.Series(predictions)\n",
        "\n",
        "pd.crosstab(y_true, y_pred, rownames=['True'], colnames=['Predicted'], margins=True)"
      ],
      "execution_count": 726,
      "outputs": [
        {
          "output_type": "stream",
          "text": [
            "Train Accuracy:  93.87755102040816\n",
            "Test Accuracy:  89.36170212765957\n",
            "F1 Score     :  0.885291327778101\n",
            "Precision    :  0.8885752882713368\n",
            "Recall       :  0.8936170212765957\n"
          ],
          "name": "stdout"
        },
        {
          "output_type": "execute_result",
          "data": {
            "text/html": [
              "<div>\n",
              "<style scoped>\n",
              "    .dataframe tbody tr th:only-of-type {\n",
              "        vertical-align: middle;\n",
              "    }\n",
              "\n",
              "    .dataframe tbody tr th {\n",
              "        vertical-align: top;\n",
              "    }\n",
              "\n",
              "    .dataframe thead th {\n",
              "        text-align: right;\n",
              "    }\n",
              "</style>\n",
              "<table border=\"1\" class=\"dataframe\">\n",
              "  <thead>\n",
              "    <tr style=\"text-align: right;\">\n",
              "      <th>Predicted</th>\n",
              "      <th>1</th>\n",
              "      <th>2</th>\n",
              "      <th>3</th>\n",
              "      <th>4</th>\n",
              "      <th>All</th>\n",
              "    </tr>\n",
              "    <tr>\n",
              "      <th>True</th>\n",
              "      <th></th>\n",
              "      <th></th>\n",
              "      <th></th>\n",
              "      <th></th>\n",
              "      <th></th>\n",
              "    </tr>\n",
              "  </thead>\n",
              "  <tbody>\n",
              "    <tr>\n",
              "      <th>1</th>\n",
              "      <td>0</td>\n",
              "      <td>0</td>\n",
              "      <td>4</td>\n",
              "      <td>1</td>\n",
              "      <td>5</td>\n",
              "    </tr>\n",
              "    <tr>\n",
              "      <th>2</th>\n",
              "      <td>1</td>\n",
              "      <td>1</td>\n",
              "      <td>21</td>\n",
              "      <td>11</td>\n",
              "      <td>34</td>\n",
              "    </tr>\n",
              "    <tr>\n",
              "      <th>3</th>\n",
              "      <td>1</td>\n",
              "      <td>15</td>\n",
              "      <td>104</td>\n",
              "      <td>64</td>\n",
              "      <td>184</td>\n",
              "    </tr>\n",
              "    <tr>\n",
              "      <th>4</th>\n",
              "      <td>0</td>\n",
              "      <td>5</td>\n",
              "      <td>60</td>\n",
              "      <td>41</td>\n",
              "      <td>106</td>\n",
              "    </tr>\n",
              "    <tr>\n",
              "      <th>All</th>\n",
              "      <td>2</td>\n",
              "      <td>21</td>\n",
              "      <td>189</td>\n",
              "      <td>117</td>\n",
              "      <td>329</td>\n",
              "    </tr>\n",
              "  </tbody>\n",
              "</table>\n",
              "</div>"
            ],
            "text/plain": [
              "Predicted  1   2    3    4  All\n",
              "True                           \n",
              "1          0   0    4    1    5\n",
              "2          1   1   21   11   34\n",
              "3          1  15  104   64  184\n",
              "4          0   5   60   41  106\n",
              "All        2  21  189  117  329"
            ]
          },
          "metadata": {
            "tags": []
          },
          "execution_count": 726
        },
        {
          "output_type": "display_data",
          "data": {
            "image/png": "[encoded data removed]",
            "text/plain": [
              "<Figure size 1080x576 with 1 Axes>"
            ]
          },
          "metadata": {
            "tags": [],
            "needs_background": "light"
          }
        }
      ]
    },
    {
      "cell_type": "markdown",
      "metadata": {
        "id": "b4kvyDZn_qcn"
      },
      "source": [
        "###**Data Augmentation using SMOTE**"
      ]
    },
    {
      "cell_type": "code",
      "metadata": {
        "trusted": true,
        "id": "rlHVDWGn_qcn"
      },
      "source": [
        "import imblearn\n",
        "from imblearn.over_sampling import SMOTE\n",
        "from collections import Counter\n",
        "from imblearn.under_sampling import RandomUnderSampler\n",
        "from imblearn.pipeline import Pipeline"
      ],
      "execution_count": 727,
      "outputs": []
    },
    {
      "cell_type": "code",
      "metadata": {
        "trusted": true,
        "id": "mxU3b0eG_qcn",
        "colab": {
          "base_uri": "https://localhost:8080/"
        },
        "outputId": "089aab5c-a7e5-4306-b379-705d52dde6bd"
      },
      "source": [
        "oversample = SMOTE()\n",
        "X= df1[cols[:-1]]\n",
        "y = df1['labels']\n",
        "\n",
        "counter = Counter(y)\n",
        "print(counter)\n",
        "\n",
        "over = SMOTE(sampling_strategy={1: 40, 2:136 , 3:1652,4:947})\n",
        "#under = RandomUnderSampler()\n",
        "#steps = [('o', over), ('u', under)]\n",
        "steps = [('o', over)]\n",
        "pipeline = Pipeline(steps=steps)\n",
        "# transform the dataset\n",
        "x, y = pipeline.fit_resample(X, y)\n",
        "\n",
        "counter = Counter(y)\n",
        "print(counter)\n",
        "print(x.shape[0]/4)"
      ],
      "execution_count": 728,
      "outputs": [
        {
          "output_type": "stream",
          "text": [
            "Counter({3: 1652, 4: 947, 2: 134, 1: 11})\n",
            "Counter({3: 1652, 4: 947, 2: 136, 1: 40})\n",
            "693.75\n"
          ],
          "name": "stdout"
        },
        {
          "output_type": "stream",
          "text": [
            "/usr/local/lib/python3.7/dist-packages/sklearn/utils/deprecation.py:87: FutureWarning: Function safe_indexing is deprecated; safe_indexing is deprecated in version 0.22 and will be removed in version 0.24.\n",
            "  warnings.warn(msg, category=FutureWarning)\n",
            "/usr/local/lib/python3.7/dist-packages/sklearn/utils/deprecation.py:87: FutureWarning: Function safe_indexing is deprecated; safe_indexing is deprecated in version 0.22 and will be removed in version 0.24.\n",
            "  warnings.warn(msg, category=FutureWarning)\n"
          ],
          "name": "stderr"
        }
      ]
    },
    {
      "cell_type": "code",
      "metadata": {
        "trusted": true,
        "id": "_03WZWHi_qcn",
        "colab": {
          "base_uri": "https://localhost:8080/",
          "height": 315
        },
        "outputId": "1adf4eca-9f59-411a-fd4d-d4f4caf479d3"
      },
      "source": [
        "import matplotlib.pyplot as plt\n",
        "clf = RandomForestClassifier(n_estimators=100, max_depth=10, oob_score=True)\n",
        "\n",
        "clf.fit(x, y)\n",
        "\n",
        "predictions = clf.predict(df2[cols[:-1]])\n",
        "predictions1 = clf.predict(x)\n",
        "print(\"Train Accuracy: \", accuracy_score(y, predictions1)*100)\n",
        "print(\"Test Accuracy: \", accuracy_score(df2['labels'], predictions)*100)\n",
        "print(\"F1 Score     : \", f1_score(df2['labels'], predictions, average='weighted'))\n",
        "print(\"Precision    : \", precision_score(df2['labels'], predictions,average='weighted'))\n",
        "print(\"Recall       : \", recall_score(df2['labels'], predictions, average='weighted'))\n",
        "\n",
        "Score_dictionary['RandomForestClassifier using Augmentation'] = [accuracy_score(y, predictions1)*100, accuracy_score(df2['labels'], predictions)*100,\n",
        "                                           f1_score(df2['labels'], predictions, average='weighted'),precision_score(df2['labels'], predictions,average='weighted'),\n",
        "                                           recall_score(df2['labels'], predictions, average='weighted') ]\n",
        "y_true = pd.Series(df2['labels'])\n",
        "y_pred = pd.Series(predictions)\n",
        "\n",
        "pd.crosstab(y_true, y_pred, rownames=['True'], colnames=['Predicted'], margins=True)"
      ],
      "execution_count": 729,
      "outputs": [
        {
          "output_type": "stream",
          "text": [
            "Train Accuracy:  94.45045045045045\n",
            "Test Accuracy:  89.96960486322189\n",
            "F1 Score     :  0.8937294245179102\n",
            "Precision    :  0.8984887221357213\n",
            "Recall       :  0.8996960486322189\n"
          ],
          "name": "stdout"
        },
        {
          "output_type": "execute_result",
          "data": {
            "text/html": [
              "<div>\n",
              "<style scoped>\n",
              "    .dataframe tbody tr th:only-of-type {\n",
              "        vertical-align: middle;\n",
              "    }\n",
              "\n",
              "    .dataframe tbody tr th {\n",
              "        vertical-align: top;\n",
              "    }\n",
              "\n",
              "    .dataframe thead th {\n",
              "        text-align: right;\n",
              "    }\n",
              "</style>\n",
              "<table border=\"1\" class=\"dataframe\">\n",
              "  <thead>\n",
              "    <tr style=\"text-align: right;\">\n",
              "      <th>Predicted</th>\n",
              "      <th>1</th>\n",
              "      <th>2</th>\n",
              "      <th>3</th>\n",
              "      <th>4</th>\n",
              "      <th>All</th>\n",
              "    </tr>\n",
              "    <tr>\n",
              "      <th>True</th>\n",
              "      <th></th>\n",
              "      <th></th>\n",
              "      <th></th>\n",
              "      <th></th>\n",
              "      <th></th>\n",
              "    </tr>\n",
              "  </thead>\n",
              "  <tbody>\n",
              "    <tr>\n",
              "      <th>1</th>\n",
              "      <td>0</td>\n",
              "      <td>0</td>\n",
              "      <td>4</td>\n",
              "      <td>1</td>\n",
              "      <td>5</td>\n",
              "    </tr>\n",
              "    <tr>\n",
              "      <th>2</th>\n",
              "      <td>1</td>\n",
              "      <td>1</td>\n",
              "      <td>22</td>\n",
              "      <td>10</td>\n",
              "      <td>34</td>\n",
              "    </tr>\n",
              "    <tr>\n",
              "      <th>3</th>\n",
              "      <td>2</td>\n",
              "      <td>15</td>\n",
              "      <td>103</td>\n",
              "      <td>64</td>\n",
              "      <td>184</td>\n",
              "    </tr>\n",
              "    <tr>\n",
              "      <th>4</th>\n",
              "      <td>0</td>\n",
              "      <td>5</td>\n",
              "      <td>61</td>\n",
              "      <td>40</td>\n",
              "      <td>106</td>\n",
              "    </tr>\n",
              "    <tr>\n",
              "      <th>All</th>\n",
              "      <td>3</td>\n",
              "      <td>21</td>\n",
              "      <td>190</td>\n",
              "      <td>115</td>\n",
              "      <td>329</td>\n",
              "    </tr>\n",
              "  </tbody>\n",
              "</table>\n",
              "</div>"
            ],
            "text/plain": [
              "Predicted  1   2    3    4  All\n",
              "True                           \n",
              "1          0   0    4    1    5\n",
              "2          1   1   22   10   34\n",
              "3          2  15  103   64  184\n",
              "4          0   5   61   40  106\n",
              "All        3  21  190  115  329"
            ]
          },
          "metadata": {
            "tags": []
          },
          "execution_count": 729
        }
      ]
    },
    {
      "cell_type": "markdown",
      "metadata": {
        "id": "0MayDaHEPCrC"
      },
      "source": [
        "####**Performance Analysis**"
      ]
    },
    {
      "cell_type": "code",
      "metadata": {
        "colab": {
          "base_uri": "https://localhost:8080/"
        },
        "id": "XvevLtJvKLy4",
        "outputId": "c274deaf-bfbc-4f4f-a33a-dca12164002c"
      },
      "source": [
        "for keys, val in Score_dictionary.items():\n",
        "  print(keys)\n",
        "  print(\"Train Accuracy:\", val[0],\"%\")\n",
        "  print(\"Test Accuracy:\", val[1],\"%\")\n",
        "  print(\"F1 Score:\", val[2])\n",
        "  print(\"Precision:\", val[3])\n",
        "  print(\"Recall:\", val[4])\n",
        "  print(\"\\n\")"
      ],
      "execution_count": 730,
      "outputs": [
        {
          "output_type": "stream",
          "text": [
            "OneVsRestClassifier\n",
            "Train Accuracy: 91.99846860643184 %\n",
            "Test Accuracy: 87.85249457700651 %\n",
            "F1 Score: 0.8758104266261164\n",
            "Precision: 0.8770880613926313\n",
            "Recall: 0.8785249457700651\n",
            "\n",
            "\n",
            "RandomForestClassifier\n",
            "Train Accuracy: 93.52986217457887 %\n",
            "Test Accuracy: 88.28633405639913 %\n",
            "F1 Score: 0.8801608537788995\n",
            "Precision: 0.881730974804677\n",
            "Recall: 0.8828633405639913\n",
            "\n",
            "\n",
            "KNeighborsClassifier\n",
            "Train Accuracy: 85.63458856345886 %\n",
            "Test Accuracy: 84.49023861171366 %\n",
            "F1 Score: 0.8399203052312181\n",
            "Precision: 0.8396265305333241\n",
            "Recall: 0.8449023861171366\n",
            "\n",
            "\n",
            "RandomForestClassifier using Augmentation\n",
            "Train Accuracy: 94.45045045045045 %\n",
            "Test Accuracy: 89.96960486322189 %\n",
            "F1 Score: 0.8937294245179102\n",
            "Precision: 0.8984887221357213\n",
            "Recall: 0.8996960486322189\n",
            "\n",
            "\n"
          ],
          "name": "stdout"
        }
      ]
    },
    {
      "cell_type": "code",
      "metadata": {
        "id": "GmZCOZtAPOhM"
      },
      "source": [
        ""
      ],
      "execution_count": 730,
      "outputs": []
    }
  ]
}